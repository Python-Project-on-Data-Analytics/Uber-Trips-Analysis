{
 "cells": [
  {
   "cell_type": "code",
   "execution_count": 1,
   "id": "5a0b09c6",
   "metadata": {},
   "outputs": [
    {
     "name": "stderr",
     "output_type": "stream",
     "text": [
      "/Users/shameikdutta/anaconda3/lib/python3.11/site-packages/pandas/core/arrays/masked.py:60: UserWarning: Pandas requires version '1.3.6' or newer of 'bottleneck' (version '1.3.5' currently installed).\n",
      "  from pandas.core import (\n"
     ]
    }
   ],
   "source": [
    "#Libraries\n",
    "%matplotlib inline\n",
    "import sys\n",
    "\n",
    "import numpy as np\n",
    "\n",
    "import pandas as pd\n",
    "\n",
    "import matplotlib as mpl\n",
    "import matplotlib.pyplot as plt\n",
    "\n",
    "import seaborn as sns\n",
    "\n",
    "import datetime\n",
    "import time\n",
    "\n",
    "sns.set()\n",
    "pal = sns.hls_palette(10 , h=0.5)\n",
    "sns.set_palette(pal)"
   ]
  },
  {
   "cell_type": "code",
   "execution_count": 2,
   "id": "881b9c5f",
   "metadata": {},
   "outputs": [],
   "source": [
    "df_uber = pd.read_csv('uber_nyc_data.csv')"
   ]
  },
  {
   "cell_type": "code",
   "execution_count": 3,
   "id": "d4a5afd8",
   "metadata": {},
   "outputs": [
    {
     "name": "stdout",
     "output_type": "stream",
     "text": [
      "<class 'pandas.core.frame.DataFrame'>\n",
      "RangeIndex: 30925738 entries, 0 to 30925737\n",
      "Data columns (total 6 columns):\n",
      " #   Column           Dtype  \n",
      "---  ------           -----  \n",
      " 0   id               int64  \n",
      " 1   origin_taz       object \n",
      " 2   destination_taz  object \n",
      " 3   pickup_datetime  object \n",
      " 4   trip_distance    float64\n",
      " 5   trip_duration    object \n",
      "dtypes: float64(1), int64(1), object(4)\n",
      "memory usage: 1.4+ GB\n"
     ]
    }
   ],
   "source": [
    "df_uber.info()"
   ]
  },
  {
   "cell_type": "code",
   "execution_count": 4,
   "id": "44572504",
   "metadata": {},
   "outputs": [
    {
     "data": {
      "text/html": [
       "<div>\n",
       "<style scoped>\n",
       "    .dataframe tbody tr th:only-of-type {\n",
       "        vertical-align: middle;\n",
       "    }\n",
       "\n",
       "    .dataframe tbody tr th {\n",
       "        vertical-align: top;\n",
       "    }\n",
       "\n",
       "    .dataframe thead th {\n",
       "        text-align: right;\n",
       "    }\n",
       "</style>\n",
       "<table border=\"1\" class=\"dataframe\">\n",
       "  <thead>\n",
       "    <tr style=\"text-align: right;\">\n",
       "      <th></th>\n",
       "      <th>id</th>\n",
       "      <th>origin_taz</th>\n",
       "      <th>destination_taz</th>\n",
       "      <th>pickup_datetime</th>\n",
       "      <th>trip_distance</th>\n",
       "      <th>trip_duration</th>\n",
       "    </tr>\n",
       "  </thead>\n",
       "  <tbody>\n",
       "    <tr>\n",
       "      <th>0</th>\n",
       "      <td>252581</td>\n",
       "      <td>7C</td>\n",
       "      <td>6A</td>\n",
       "      <td>2014-09-01 09:00:00</td>\n",
       "      <td>4.25</td>\n",
       "      <td>0:15:11</td>\n",
       "    </tr>\n",
       "    <tr>\n",
       "      <th>1</th>\n",
       "      <td>252582</td>\n",
       "      <td>7B</td>\n",
       "      <td>15</td>\n",
       "      <td>2014-09-01 18:00:00</td>\n",
       "      <td>10.17</td>\n",
       "      <td>0:34:05</td>\n",
       "    </tr>\n",
       "    <tr>\n",
       "      <th>2</th>\n",
       "      <td>252583</td>\n",
       "      <td>11</td>\n",
       "      <td>2A</td>\n",
       "      <td>2014-09-01 17:00:00</td>\n",
       "      <td>4.02</td>\n",
       "      <td>0:17:06</td>\n",
       "    </tr>\n",
       "    <tr>\n",
       "      <th>3</th>\n",
       "      <td>252584</td>\n",
       "      <td>3B</td>\n",
       "      <td>4A</td>\n",
       "      <td>2014-09-01 13:00:00</td>\n",
       "      <td>1.46</td>\n",
       "      <td>0:06:32</td>\n",
       "    </tr>\n",
       "    <tr>\n",
       "      <th>4</th>\n",
       "      <td>252585</td>\n",
       "      <td>2A</td>\n",
       "      <td>10</td>\n",
       "      <td>2014-09-01 14:00:00</td>\n",
       "      <td>8.31</td>\n",
       "      <td>0:26:17</td>\n",
       "    </tr>\n",
       "    <tr>\n",
       "      <th>...</th>\n",
       "      <td>...</td>\n",
       "      <td>...</td>\n",
       "      <td>...</td>\n",
       "      <td>...</td>\n",
       "      <td>...</td>\n",
       "      <td>...</td>\n",
       "    </tr>\n",
       "    <tr>\n",
       "      <th>30925733</th>\n",
       "      <td>30693431</td>\n",
       "      <td>15</td>\n",
       "      <td>15</td>\n",
       "      <td>2015-09-01 00:00:00</td>\n",
       "      <td>6.86</td>\n",
       "      <td>0:27:37</td>\n",
       "    </tr>\n",
       "    <tr>\n",
       "      <th>30925734</th>\n",
       "      <td>30693447</td>\n",
       "      <td>5B</td>\n",
       "      <td>2A</td>\n",
       "      <td>2015-09-01 00:00:00</td>\n",
       "      <td>3.44</td>\n",
       "      <td>0:11:07</td>\n",
       "    </tr>\n",
       "    <tr>\n",
       "      <th>30925735</th>\n",
       "      <td>30693461</td>\n",
       "      <td>4C</td>\n",
       "      <td>NaN</td>\n",
       "      <td>2015-09-01 00:00:00</td>\n",
       "      <td>6.17</td>\n",
       "      <td>0:19:10</td>\n",
       "    </tr>\n",
       "    <tr>\n",
       "      <th>30925736</th>\n",
       "      <td>30693466</td>\n",
       "      <td>2A</td>\n",
       "      <td>5A</td>\n",
       "      <td>2015-09-01 00:00:00</td>\n",
       "      <td>1.87</td>\n",
       "      <td>0:07:54</td>\n",
       "    </tr>\n",
       "    <tr>\n",
       "      <th>30925737</th>\n",
       "      <td>30693470</td>\n",
       "      <td>2A</td>\n",
       "      <td>2A</td>\n",
       "      <td>2015-09-01 00:00:00</td>\n",
       "      <td>0.27</td>\n",
       "      <td>0:05:53</td>\n",
       "    </tr>\n",
       "  </tbody>\n",
       "</table>\n",
       "<p>30925738 rows × 6 columns</p>\n",
       "</div>"
      ],
      "text/plain": [
       "                id origin_taz destination_taz      pickup_datetime  \\\n",
       "0           252581         7C              6A  2014-09-01 09:00:00   \n",
       "1           252582         7B              15  2014-09-01 18:00:00   \n",
       "2           252583         11              2A  2014-09-01 17:00:00   \n",
       "3           252584         3B              4A  2014-09-01 13:00:00   \n",
       "4           252585         2A              10  2014-09-01 14:00:00   \n",
       "...            ...        ...             ...                  ...   \n",
       "30925733  30693431         15              15  2015-09-01 00:00:00   \n",
       "30925734  30693447         5B              2A  2015-09-01 00:00:00   \n",
       "30925735  30693461         4C             NaN  2015-09-01 00:00:00   \n",
       "30925736  30693466         2A              5A  2015-09-01 00:00:00   \n",
       "30925737  30693470         2A              2A  2015-09-01 00:00:00   \n",
       "\n",
       "          trip_distance trip_duration  \n",
       "0                  4.25       0:15:11  \n",
       "1                 10.17       0:34:05  \n",
       "2                  4.02       0:17:06  \n",
       "3                  1.46       0:06:32  \n",
       "4                  8.31       0:26:17  \n",
       "...                 ...           ...  \n",
       "30925733           6.86       0:27:37  \n",
       "30925734           3.44       0:11:07  \n",
       "30925735           6.17       0:19:10  \n",
       "30925736           1.87       0:07:54  \n",
       "30925737           0.27       0:05:53  \n",
       "\n",
       "[30925738 rows x 6 columns]"
      ]
     },
     "execution_count": 4,
     "metadata": {},
     "output_type": "execute_result"
    }
   ],
   "source": [
    "df_uber"
   ]
  },
  {
   "cell_type": "code",
   "execution_count": 5,
   "id": "219559a0",
   "metadata": {},
   "outputs": [
    {
     "data": {
      "text/html": [
       "<div>\n",
       "<style scoped>\n",
       "    .dataframe tbody tr th:only-of-type {\n",
       "        vertical-align: middle;\n",
       "    }\n",
       "\n",
       "    .dataframe tbody tr th {\n",
       "        vertical-align: top;\n",
       "    }\n",
       "\n",
       "    .dataframe thead th {\n",
       "        text-align: right;\n",
       "    }\n",
       "</style>\n",
       "<table border=\"1\" class=\"dataframe\">\n",
       "  <thead>\n",
       "    <tr style=\"text-align: right;\">\n",
       "      <th></th>\n",
       "      <th>id</th>\n",
       "      <th>origin_taz</th>\n",
       "      <th>destination_taz</th>\n",
       "      <th>pickup_datetime</th>\n",
       "      <th>trip_distance</th>\n",
       "      <th>trip_duration</th>\n",
       "    </tr>\n",
       "  </thead>\n",
       "  <tbody>\n",
       "    <tr>\n",
       "      <th>0</th>\n",
       "      <td>252581</td>\n",
       "      <td>7C</td>\n",
       "      <td>6A</td>\n",
       "      <td>2014-09-01 09:00:00</td>\n",
       "      <td>4.25</td>\n",
       "      <td>0:15:11</td>\n",
       "    </tr>\n",
       "    <tr>\n",
       "      <th>1</th>\n",
       "      <td>252582</td>\n",
       "      <td>7B</td>\n",
       "      <td>15</td>\n",
       "      <td>2014-09-01 18:00:00</td>\n",
       "      <td>10.17</td>\n",
       "      <td>0:34:05</td>\n",
       "    </tr>\n",
       "    <tr>\n",
       "      <th>2</th>\n",
       "      <td>252583</td>\n",
       "      <td>11</td>\n",
       "      <td>2A</td>\n",
       "      <td>2014-09-01 17:00:00</td>\n",
       "      <td>4.02</td>\n",
       "      <td>0:17:06</td>\n",
       "    </tr>\n",
       "    <tr>\n",
       "      <th>3</th>\n",
       "      <td>252584</td>\n",
       "      <td>3B</td>\n",
       "      <td>4A</td>\n",
       "      <td>2014-09-01 13:00:00</td>\n",
       "      <td>1.46</td>\n",
       "      <td>0:06:32</td>\n",
       "    </tr>\n",
       "    <tr>\n",
       "      <th>4</th>\n",
       "      <td>252585</td>\n",
       "      <td>2A</td>\n",
       "      <td>10</td>\n",
       "      <td>2014-09-01 14:00:00</td>\n",
       "      <td>8.31</td>\n",
       "      <td>0:26:17</td>\n",
       "    </tr>\n",
       "  </tbody>\n",
       "</table>\n",
       "</div>"
      ],
      "text/plain": [
       "       id origin_taz destination_taz      pickup_datetime  trip_distance  \\\n",
       "0  252581         7C              6A  2014-09-01 09:00:00           4.25   \n",
       "1  252582         7B              15  2014-09-01 18:00:00          10.17   \n",
       "2  252583         11              2A  2014-09-01 17:00:00           4.02   \n",
       "3  252584         3B              4A  2014-09-01 13:00:00           1.46   \n",
       "4  252585         2A              10  2014-09-01 14:00:00           8.31   \n",
       "\n",
       "  trip_duration  \n",
       "0       0:15:11  \n",
       "1       0:34:05  \n",
       "2       0:17:06  \n",
       "3       0:06:32  \n",
       "4       0:26:17  "
      ]
     },
     "execution_count": 5,
     "metadata": {},
     "output_type": "execute_result"
    }
   ],
   "source": [
    "df_uber.head()"
   ]
  },
  {
   "cell_type": "markdown",
   "id": "3eb6fbc5",
   "metadata": {},
   "source": [
    "# Check for missing data"
   ]
  },
  {
   "cell_type": "code",
   "execution_count": 6,
   "id": "c695d757",
   "metadata": {},
   "outputs": [
    {
     "data": {
      "text/plain": [
       "0"
      ]
     },
     "execution_count": 6,
     "metadata": {},
     "output_type": "execute_result"
    }
   ],
   "source": [
    "len(df_uber[df_uber.duplicated() == True])\n",
    "#no duplicate data in the rows"
   ]
  },
  {
   "cell_type": "code",
   "execution_count": 7,
   "id": "9825af0f",
   "metadata": {},
   "outputs": [
    {
     "data": {
      "text/plain": [
       "array(['7C', '7B', '11', '3B', '2A', '5B', '10', '2B', '9', '6B', '15',\n",
       "       '4C', '5A', '8', '14', '4A', '7A', '1', '16', '3A', '2C', '6A',\n",
       "       '12', '13', '3C', '4B', '5C', '17'], dtype=object)"
      ]
     },
     "execution_count": 7,
     "metadata": {},
     "output_type": "execute_result"
    }
   ],
   "source": [
    "arr1 = df_uber.origin_taz.unique()\n",
    "arr1"
   ]
  },
  {
   "cell_type": "code",
   "execution_count": 8,
   "id": "6fe35503",
   "metadata": {},
   "outputs": [
    {
     "data": {
      "text/plain": [
       "array(['6A', '15', '2A', '4A', '10', '4C', '7A', '3C', '5B', '14', '8',\n",
       "       nan, '7C', '12', '2C', '1', '6B', '5C', '9', '3A', '2B', '11',\n",
       "       '7B', '5A', '13', '4B', '18', '16', '3B', '17'], dtype=object)"
      ]
     },
     "execution_count": 8,
     "metadata": {},
     "output_type": "execute_result"
    }
   ],
   "source": [
    "arr2 = df_uber.destination_taz.unique()\n",
    "arr2"
   ]
  },
  {
   "cell_type": "code",
   "execution_count": 9,
   "id": "f0049c70",
   "metadata": {},
   "outputs": [
    {
     "data": {
      "text/plain": [
       "{'18', nan}"
      ]
     },
     "execution_count": 9,
     "metadata": {},
     "output_type": "execute_result"
    }
   ],
   "source": [
    "set(arr2) - set(arr1)"
   ]
  },
  {
   "cell_type": "code",
   "execution_count": 10,
   "id": "0104ea16",
   "metadata": {},
   "outputs": [
    {
     "data": {
      "text/html": [
       "<div>\n",
       "<style scoped>\n",
       "    .dataframe tbody tr th:only-of-type {\n",
       "        vertical-align: middle;\n",
       "    }\n",
       "\n",
       "    .dataframe tbody tr th {\n",
       "        vertical-align: top;\n",
       "    }\n",
       "\n",
       "    .dataframe thead th {\n",
       "        text-align: right;\n",
       "    }\n",
       "</style>\n",
       "<table border=\"1\" class=\"dataframe\">\n",
       "  <thead>\n",
       "    <tr style=\"text-align: right;\">\n",
       "      <th></th>\n",
       "      <th>id</th>\n",
       "      <th>origin_taz</th>\n",
       "      <th>destination_taz</th>\n",
       "      <th>pickup_datetime</th>\n",
       "      <th>trip_distance</th>\n",
       "      <th>trip_duration</th>\n",
       "    </tr>\n",
       "  </thead>\n",
       "  <tbody>\n",
       "    <tr>\n",
       "      <th>15</th>\n",
       "      <td>252596</td>\n",
       "      <td>6B</td>\n",
       "      <td>NaN</td>\n",
       "      <td>2014-09-01 17:00:00</td>\n",
       "      <td>11.67</td>\n",
       "      <td>0:23:45</td>\n",
       "    </tr>\n",
       "    <tr>\n",
       "      <th>32</th>\n",
       "      <td>252613</td>\n",
       "      <td>9</td>\n",
       "      <td>NaN</td>\n",
       "      <td>2014-09-01 16:00:00</td>\n",
       "      <td>80.69</td>\n",
       "      <td>1:59:37</td>\n",
       "    </tr>\n",
       "    <tr>\n",
       "      <th>63</th>\n",
       "      <td>252644</td>\n",
       "      <td>9</td>\n",
       "      <td>NaN</td>\n",
       "      <td>2014-09-01 18:00:00</td>\n",
       "      <td>23.07</td>\n",
       "      <td>1:03:37</td>\n",
       "    </tr>\n",
       "    <tr>\n",
       "      <th>141</th>\n",
       "      <td>252722</td>\n",
       "      <td>9</td>\n",
       "      <td>NaN</td>\n",
       "      <td>2014-09-01 10:00:00</td>\n",
       "      <td>21.73</td>\n",
       "      <td>0:41:12</td>\n",
       "    </tr>\n",
       "    <tr>\n",
       "      <th>148</th>\n",
       "      <td>252729</td>\n",
       "      <td>4B</td>\n",
       "      <td>NaN</td>\n",
       "      <td>2014-09-01 10:00:00</td>\n",
       "      <td>4.62</td>\n",
       "      <td>0:14:55</td>\n",
       "    </tr>\n",
       "  </tbody>\n",
       "</table>\n",
       "</div>"
      ],
      "text/plain": [
       "         id origin_taz destination_taz      pickup_datetime  trip_distance  \\\n",
       "15   252596         6B             NaN  2014-09-01 17:00:00          11.67   \n",
       "32   252613          9             NaN  2014-09-01 16:00:00          80.69   \n",
       "63   252644          9             NaN  2014-09-01 18:00:00          23.07   \n",
       "141  252722          9             NaN  2014-09-01 10:00:00          21.73   \n",
       "148  252729         4B             NaN  2014-09-01 10:00:00           4.62   \n",
       "\n",
       "    trip_duration  \n",
       "15        0:23:45  \n",
       "32        1:59:37  \n",
       "63        1:03:37  \n",
       "141       0:41:12  \n",
       "148       0:14:55  "
      ]
     },
     "execution_count": 10,
     "metadata": {},
     "output_type": "execute_result"
    }
   ],
   "source": [
    "df_uber[df_uber.destination_taz.isnull()].head()\n",
    "#check mdata with missing destination"
   ]
  },
  {
   "cell_type": "code",
   "execution_count": 11,
   "id": "da447166",
   "metadata": {},
   "outputs": [
    {
     "data": {
      "text/html": [
       "<div>\n",
       "<style scoped>\n",
       "    .dataframe tbody tr th:only-of-type {\n",
       "        vertical-align: middle;\n",
       "    }\n",
       "\n",
       "    .dataframe tbody tr th {\n",
       "        vertical-align: top;\n",
       "    }\n",
       "\n",
       "    .dataframe thead th {\n",
       "        text-align: right;\n",
       "    }\n",
       "</style>\n",
       "<table border=\"1\" class=\"dataframe\">\n",
       "  <thead>\n",
       "    <tr style=\"text-align: right;\">\n",
       "      <th></th>\n",
       "      <th>id</th>\n",
       "      <th>origin_taz</th>\n",
       "      <th>destination_taz</th>\n",
       "      <th>pickup_datetime</th>\n",
       "      <th>trip_distance</th>\n",
       "      <th>trip_duration</th>\n",
       "    </tr>\n",
       "  </thead>\n",
       "  <tbody>\n",
       "    <tr>\n",
       "      <th>15155317</th>\n",
       "      <td>39535</td>\n",
       "      <td>2A</td>\n",
       "      <td>11</td>\n",
       "      <td>2015-04-25 12:00:00</td>\n",
       "      <td>NaN</td>\n",
       "      <td>NaN</td>\n",
       "    </tr>\n",
       "    <tr>\n",
       "      <th>15245057</th>\n",
       "      <td>1009076</td>\n",
       "      <td>2A</td>\n",
       "      <td>2A</td>\n",
       "      <td>2015-04-26 01:00:00</td>\n",
       "      <td>NaN</td>\n",
       "      <td>NaN</td>\n",
       "    </tr>\n",
       "    <tr>\n",
       "      <th>16519652</th>\n",
       "      <td>15028665</td>\n",
       "      <td>2A</td>\n",
       "      <td>7C</td>\n",
       "      <td>2015-04-29 21:00:00</td>\n",
       "      <td>NaN</td>\n",
       "      <td>NaN</td>\n",
       "    </tr>\n",
       "    <tr>\n",
       "      <th>17148253</th>\n",
       "      <td>22250173</td>\n",
       "      <td>2A</td>\n",
       "      <td>2A</td>\n",
       "      <td>2015-04-12 02:00:00</td>\n",
       "      <td>NaN</td>\n",
       "      <td>NaN</td>\n",
       "    </tr>\n",
       "    <tr>\n",
       "      <th>17297563</th>\n",
       "      <td>23716998</td>\n",
       "      <td>2C</td>\n",
       "      <td>11</td>\n",
       "      <td>2015-04-25 13:00:00</td>\n",
       "      <td>NaN</td>\n",
       "      <td>NaN</td>\n",
       "    </tr>\n",
       "  </tbody>\n",
       "</table>\n",
       "</div>"
      ],
      "text/plain": [
       "                id origin_taz destination_taz      pickup_datetime  \\\n",
       "15155317     39535         2A              11  2015-04-25 12:00:00   \n",
       "15245057   1009076         2A              2A  2015-04-26 01:00:00   \n",
       "16519652  15028665         2A              7C  2015-04-29 21:00:00   \n",
       "17148253  22250173         2A              2A  2015-04-12 02:00:00   \n",
       "17297563  23716998         2C              11  2015-04-25 13:00:00   \n",
       "\n",
       "          trip_distance trip_duration  \n",
       "15155317            NaN           NaN  \n",
       "15245057            NaN           NaN  \n",
       "16519652            NaN           NaN  \n",
       "17148253            NaN           NaN  \n",
       "17297563            NaN           NaN  "
      ]
     },
     "execution_count": 11,
     "metadata": {},
     "output_type": "execute_result"
    }
   ],
   "source": [
    "df = df_uber[df_uber.trip_duration.isnull() & df_uber.trip_distance.isnull()]\n",
    "df.head()"
   ]
  },
  {
   "cell_type": "code",
   "execution_count": 12,
   "id": "3ddb1024",
   "metadata": {},
   "outputs": [
    {
     "data": {
      "text/plain": [
       "0"
      ]
     },
     "execution_count": 12,
     "metadata": {},
     "output_type": "execute_result"
    }
   ],
   "source": [
    "len(df_uber[(df_uber.trip_duration.isnull() == False) & (df_uber.trip_distance.isnull())])\n",
    "##All cases for which trip_duration is null match the cases for which trip_distance is also null:"
   ]
  },
  {
   "cell_type": "markdown",
   "id": "e6be9d09",
   "metadata": {},
   "source": [
    "# Analyze the pickup_datetime column to datetime type and create related features."
   ]
  },
  {
   "cell_type": "code",
   "execution_count": 13,
   "id": "d9fd513e",
   "metadata": {},
   "outputs": [
    {
     "data": {
      "text/plain": [
       "0"
      ]
     },
     "execution_count": 13,
     "metadata": {},
     "output_type": "execute_result"
    }
   ],
   "source": [
    "len(df_uber[df_uber.pickup_datetime.apply(lambda x:x[-5:] == '00:00') == False])\n",
    "#pickup time data offer mins or sec precision"
   ]
  },
  {
   "cell_type": "code",
   "execution_count": 14,
   "id": "ec66ae51",
   "metadata": {},
   "outputs": [],
   "source": [
    "def dateParser(s): # takes a string in format yyy-mm-dd hh:mm:ss and returns the same as a datetime object\n",
    "    \n",
    "    return datetime.datetime(int(s[0:4]) , int(s[5:7]) , int(s[8:10]) , int(s[11:13]))"
   ]
  },
  {
   "cell_type": "code",
   "execution_count": 15,
   "id": "49d289fa",
   "metadata": {},
   "outputs": [
    {
     "data": {
      "text/plain": [
       "37.12463617324829"
      ]
     },
     "execution_count": 15,
     "metadata": {},
     "output_type": "execute_result"
    }
   ],
   "source": [
    "t0 = time.time()\n",
    "df_uber['pu_date_hour'] = df_uber.pickup_datetime.apply(dateParser)\n",
    "time.time() - t0"
   ]
  },
  {
   "cell_type": "code",
   "execution_count": 16,
   "id": "b6b0f524",
   "metadata": {},
   "outputs": [
    {
     "name": "stdout",
     "output_type": "stream",
     "text": [
      "2014-09-01 00:00:00 2015-09-01 00:00:00 365 days 00:00:00\n"
     ]
    }
   ],
   "source": [
    "beginning = df_uber.pu_date_hour.min()\n",
    "end = df_uber.pu_date_hour.max()\n",
    "print(beginning, end, end - beginning)"
   ]
  },
  {
   "cell_type": "code",
   "execution_count": 17,
   "id": "7d96caf4",
   "metadata": {},
   "outputs": [],
   "source": [
    "df_uber = df_uber.drop('pickup_datetime' , axis = 1) #drop coulmns axis  = 1 means coulmns"
   ]
  },
  {
   "cell_type": "code",
   "execution_count": 18,
   "id": "d88bab63",
   "metadata": {},
   "outputs": [
    {
     "data": {
      "text/plain": [
       "43.32711911201477"
      ]
     },
     "execution_count": 18,
     "metadata": {},
     "output_type": "execute_result"
    }
   ],
   "source": [
    "t0 = time.time()\n",
    "df_uber['pu_date'] = pd.Series(map(lambda x: x.astype('datetime64[D]'),df_uber['pu_date_hour'].values))\n",
    "time.time() - t0\n",
    "#creation of coulmn with the date and without time"
   ]
  },
  {
   "cell_type": "code",
   "execution_count": 19,
   "id": "79ed9f22",
   "metadata": {},
   "outputs": [],
   "source": [
    "df_uber['year'] = df_uber['pu_date_hour'].dt.year\n",
    "df_uber['month'] = df_uber['pu_date_hour'].dt.month\n",
    "#get month and year from pickup stamp"
   ]
  },
  {
   "cell_type": "code",
   "execution_count": 20,
   "id": "efaae5b8",
   "metadata": {},
   "outputs": [
    {
     "data": {
      "text/plain": [
       "0.6530418395996094"
      ]
     },
     "execution_count": 20,
     "metadata": {},
     "output_type": "execute_result"
    }
   ],
   "source": [
    "t0 = time.time()\n",
    "df_uber['hour'] = df_uber['pu_date_hour'].dt.hour\n",
    "time.time() - t0\n",
    "#get trip pick up hour from timestamp"
   ]
  },
  {
   "cell_type": "code",
   "execution_count": 21,
   "id": "fef4b02b",
   "metadata": {},
   "outputs": [
    {
     "data": {
      "text/plain": [
       "0.9649889469146729"
      ]
     },
     "execution_count": 21,
     "metadata": {},
     "output_type": "execute_result"
    }
   ],
   "source": [
    "t0 = time.time()\n",
    "df_uber['weekday'] = df_uber['pu_date_hour'].dt.dayofweek\n",
    "time.time() - t0\n",
    "#trip pickup weekday from timestamp"
   ]
  },
  {
   "cell_type": "code",
   "execution_count": 22,
   "id": "16d87e9b",
   "metadata": {},
   "outputs": [
    {
     "data": {
      "text/plain": [
       "weekday\n",
       "5    5142832\n",
       "4    4805002\n",
       "3    4625511\n",
       "6    4331195\n",
       "2    4301537\n",
       "1    4010434\n",
       "0    3709227\n",
       "Name: count, dtype: int64"
      ]
     },
     "execution_count": 22,
     "metadata": {},
     "output_type": "execute_result"
    }
   ],
   "source": [
    "df_uber.weekday.value_counts()\n",
    "#counts as monday = 0 ----- Sunday = 6"
   ]
  },
  {
   "cell_type": "code",
   "execution_count": 23,
   "id": "440dfbd5",
   "metadata": {},
   "outputs": [
    {
     "data": {
      "text/html": [
       "<div>\n",
       "<style scoped>\n",
       "    .dataframe tbody tr th:only-of-type {\n",
       "        vertical-align: middle;\n",
       "    }\n",
       "\n",
       "    .dataframe tbody tr th {\n",
       "        vertical-align: top;\n",
       "    }\n",
       "\n",
       "    .dataframe thead th {\n",
       "        text-align: right;\n",
       "    }\n",
       "</style>\n",
       "<table border=\"1\" class=\"dataframe\">\n",
       "  <thead>\n",
       "    <tr style=\"text-align: right;\">\n",
       "      <th></th>\n",
       "      <th>id</th>\n",
       "      <th>origin_taz</th>\n",
       "      <th>destination_taz</th>\n",
       "      <th>trip_distance</th>\n",
       "      <th>trip_duration</th>\n",
       "      <th>pu_date_hour</th>\n",
       "      <th>pu_date</th>\n",
       "      <th>year</th>\n",
       "      <th>month</th>\n",
       "      <th>hour</th>\n",
       "      <th>weekday</th>\n",
       "    </tr>\n",
       "  </thead>\n",
       "  <tbody>\n",
       "    <tr>\n",
       "      <th>0</th>\n",
       "      <td>252581</td>\n",
       "      <td>7C</td>\n",
       "      <td>6A</td>\n",
       "      <td>4.25</td>\n",
       "      <td>0:15:11</td>\n",
       "      <td>2014-09-01 09:00:00</td>\n",
       "      <td>2014-09-01</td>\n",
       "      <td>2014</td>\n",
       "      <td>9</td>\n",
       "      <td>9</td>\n",
       "      <td>0</td>\n",
       "    </tr>\n",
       "    <tr>\n",
       "      <th>1</th>\n",
       "      <td>252582</td>\n",
       "      <td>7B</td>\n",
       "      <td>15</td>\n",
       "      <td>10.17</td>\n",
       "      <td>0:34:05</td>\n",
       "      <td>2014-09-01 18:00:00</td>\n",
       "      <td>2014-09-01</td>\n",
       "      <td>2014</td>\n",
       "      <td>9</td>\n",
       "      <td>18</td>\n",
       "      <td>0</td>\n",
       "    </tr>\n",
       "    <tr>\n",
       "      <th>2</th>\n",
       "      <td>252583</td>\n",
       "      <td>11</td>\n",
       "      <td>2A</td>\n",
       "      <td>4.02</td>\n",
       "      <td>0:17:06</td>\n",
       "      <td>2014-09-01 17:00:00</td>\n",
       "      <td>2014-09-01</td>\n",
       "      <td>2014</td>\n",
       "      <td>9</td>\n",
       "      <td>17</td>\n",
       "      <td>0</td>\n",
       "    </tr>\n",
       "    <tr>\n",
       "      <th>3</th>\n",
       "      <td>252584</td>\n",
       "      <td>3B</td>\n",
       "      <td>4A</td>\n",
       "      <td>1.46</td>\n",
       "      <td>0:06:32</td>\n",
       "      <td>2014-09-01 13:00:00</td>\n",
       "      <td>2014-09-01</td>\n",
       "      <td>2014</td>\n",
       "      <td>9</td>\n",
       "      <td>13</td>\n",
       "      <td>0</td>\n",
       "    </tr>\n",
       "    <tr>\n",
       "      <th>4</th>\n",
       "      <td>252585</td>\n",
       "      <td>2A</td>\n",
       "      <td>10</td>\n",
       "      <td>8.31</td>\n",
       "      <td>0:26:17</td>\n",
       "      <td>2014-09-01 14:00:00</td>\n",
       "      <td>2014-09-01</td>\n",
       "      <td>2014</td>\n",
       "      <td>9</td>\n",
       "      <td>14</td>\n",
       "      <td>0</td>\n",
       "    </tr>\n",
       "  </tbody>\n",
       "</table>\n",
       "</div>"
      ],
      "text/plain": [
       "       id origin_taz destination_taz  trip_distance trip_duration  \\\n",
       "0  252581         7C              6A           4.25       0:15:11   \n",
       "1  252582         7B              15          10.17       0:34:05   \n",
       "2  252583         11              2A           4.02       0:17:06   \n",
       "3  252584         3B              4A           1.46       0:06:32   \n",
       "4  252585         2A              10           8.31       0:26:17   \n",
       "\n",
       "         pu_date_hour    pu_date  year  month  hour  weekday  \n",
       "0 2014-09-01 09:00:00 2014-09-01  2014      9     9        0  \n",
       "1 2014-09-01 18:00:00 2014-09-01  2014      9    18        0  \n",
       "2 2014-09-01 17:00:00 2014-09-01  2014      9    17        0  \n",
       "3 2014-09-01 13:00:00 2014-09-01  2014      9    13        0  \n",
       "4 2014-09-01 14:00:00 2014-09-01  2014      9    14        0  "
      ]
     },
     "execution_count": 23,
     "metadata": {},
     "output_type": "execute_result"
    }
   ],
   "source": [
    "df_uber.head()"
   ]
  },
  {
   "cell_type": "markdown",
   "id": "27e6976b",
   "metadata": {},
   "source": [
    "# Transformation of trip duration data"
   ]
  },
  {
   "cell_type": "code",
   "execution_count": 24,
   "id": "590bf079",
   "metadata": {},
   "outputs": [],
   "source": [
    "uniq_dur = df_uber[df_uber.trip_duration.isnull() == False].trip_duration.unique()"
   ]
  },
  {
   "cell_type": "code",
   "execution_count": 25,
   "id": "0e157268",
   "metadata": {},
   "outputs": [
    {
     "name": "stdout",
     "output_type": "stream",
     "text": [
      "386\n"
     ]
    }
   ],
   "source": [
    "#how many represent >=10h of duration\n",
    "long_duration = []\n",
    "for item in uniq_dur:\n",
    "    if len(item) != 7:\n",
    "        long_duration.append(item)\n",
    "print(len(long_duration))"
   ]
  },
  {
   "cell_type": "code",
   "execution_count": 26,
   "id": "da42b88d",
   "metadata": {},
   "outputs": [
    {
     "name": "stdout",
     "output_type": "stream",
     "text": [
      "172032:14:50\n",
      "172032:39:03\n",
      "136:25:12\n",
      "172032:17:45\n",
      "172032:19:27\n",
      "119:53:35\n",
      "120:49:05\n"
     ]
    }
   ],
   "source": [
    "#check for unusual string duration\n",
    "for item in long_duration:\n",
    "    if len(item) > 8:\n",
    "        print(item)"
   ]
  },
  {
   "cell_type": "code",
   "execution_count": 27,
   "id": "871005b3",
   "metadata": {},
   "outputs": [],
   "source": [
    "def duration_to_minutes(s):  # Takes hh:mm:ss and returns integer equivalent of total time in mins or zero from data\n",
    "    if pd.isnull(s):\n",
    "        val = 0\n",
    "    else:  \n",
    "        hms = s.split(':')\n",
    "        val = int(hms[0]) * 60 + int(hms[2]) / 60.0\n",
    "    return val  # Return outside the conditional block"
   ]
  },
  {
   "cell_type": "code",
   "execution_count": 28,
   "id": "6e23a54e",
   "metadata": {},
   "outputs": [
    {
     "data": {
      "text/plain": [
       "19.0350399017334"
      ]
     },
     "execution_count": 28,
     "metadata": {},
     "output_type": "execute_result"
    }
   ],
   "source": [
    "#trip duration string into trip duration into mins\n",
    "t0 = time.time()\n",
    "df_uber['duration_min'] = df_uber.trip_duration.apply(duration_to_minutes) \n",
    "time.time() - t0"
   ]
  },
  {
   "cell_type": "code",
   "execution_count": 29,
   "id": "953a86e4",
   "metadata": {},
   "outputs": [
    {
     "data": {
      "text/html": [
       "<div>\n",
       "<style scoped>\n",
       "    .dataframe tbody tr th:only-of-type {\n",
       "        vertical-align: middle;\n",
       "    }\n",
       "\n",
       "    .dataframe tbody tr th {\n",
       "        vertical-align: top;\n",
       "    }\n",
       "\n",
       "    .dataframe thead th {\n",
       "        text-align: right;\n",
       "    }\n",
       "</style>\n",
       "<table border=\"1\" class=\"dataframe\">\n",
       "  <thead>\n",
       "    <tr style=\"text-align: right;\">\n",
       "      <th></th>\n",
       "      <th>id</th>\n",
       "      <th>origin_taz</th>\n",
       "      <th>destination_taz</th>\n",
       "      <th>trip_distance</th>\n",
       "      <th>trip_duration</th>\n",
       "      <th>pu_date_hour</th>\n",
       "      <th>pu_date</th>\n",
       "      <th>year</th>\n",
       "      <th>month</th>\n",
       "      <th>hour</th>\n",
       "      <th>weekday</th>\n",
       "      <th>duration_min</th>\n",
       "    </tr>\n",
       "  </thead>\n",
       "  <tbody>\n",
       "    <tr>\n",
       "      <th>0</th>\n",
       "      <td>252581</td>\n",
       "      <td>7C</td>\n",
       "      <td>6A</td>\n",
       "      <td>4.25</td>\n",
       "      <td>0:15:11</td>\n",
       "      <td>2014-09-01 09:00:00</td>\n",
       "      <td>2014-09-01</td>\n",
       "      <td>2014</td>\n",
       "      <td>9</td>\n",
       "      <td>9</td>\n",
       "      <td>0</td>\n",
       "      <td>0.183333</td>\n",
       "    </tr>\n",
       "    <tr>\n",
       "      <th>1</th>\n",
       "      <td>252582</td>\n",
       "      <td>7B</td>\n",
       "      <td>15</td>\n",
       "      <td>10.17</td>\n",
       "      <td>0:34:05</td>\n",
       "      <td>2014-09-01 18:00:00</td>\n",
       "      <td>2014-09-01</td>\n",
       "      <td>2014</td>\n",
       "      <td>9</td>\n",
       "      <td>18</td>\n",
       "      <td>0</td>\n",
       "      <td>0.083333</td>\n",
       "    </tr>\n",
       "    <tr>\n",
       "      <th>2</th>\n",
       "      <td>252583</td>\n",
       "      <td>11</td>\n",
       "      <td>2A</td>\n",
       "      <td>4.02</td>\n",
       "      <td>0:17:06</td>\n",
       "      <td>2014-09-01 17:00:00</td>\n",
       "      <td>2014-09-01</td>\n",
       "      <td>2014</td>\n",
       "      <td>9</td>\n",
       "      <td>17</td>\n",
       "      <td>0</td>\n",
       "      <td>0.100000</td>\n",
       "    </tr>\n",
       "    <tr>\n",
       "      <th>3</th>\n",
       "      <td>252584</td>\n",
       "      <td>3B</td>\n",
       "      <td>4A</td>\n",
       "      <td>1.46</td>\n",
       "      <td>0:06:32</td>\n",
       "      <td>2014-09-01 13:00:00</td>\n",
       "      <td>2014-09-01</td>\n",
       "      <td>2014</td>\n",
       "      <td>9</td>\n",
       "      <td>13</td>\n",
       "      <td>0</td>\n",
       "      <td>0.533333</td>\n",
       "    </tr>\n",
       "    <tr>\n",
       "      <th>4</th>\n",
       "      <td>252585</td>\n",
       "      <td>2A</td>\n",
       "      <td>10</td>\n",
       "      <td>8.31</td>\n",
       "      <td>0:26:17</td>\n",
       "      <td>2014-09-01 14:00:00</td>\n",
       "      <td>2014-09-01</td>\n",
       "      <td>2014</td>\n",
       "      <td>9</td>\n",
       "      <td>14</td>\n",
       "      <td>0</td>\n",
       "      <td>0.283333</td>\n",
       "    </tr>\n",
       "  </tbody>\n",
       "</table>\n",
       "</div>"
      ],
      "text/plain": [
       "       id origin_taz destination_taz  trip_distance trip_duration  \\\n",
       "0  252581         7C              6A           4.25       0:15:11   \n",
       "1  252582         7B              15          10.17       0:34:05   \n",
       "2  252583         11              2A           4.02       0:17:06   \n",
       "3  252584         3B              4A           1.46       0:06:32   \n",
       "4  252585         2A              10           8.31       0:26:17   \n",
       "\n",
       "         pu_date_hour    pu_date  year  month  hour  weekday  duration_min  \n",
       "0 2014-09-01 09:00:00 2014-09-01  2014      9     9        0      0.183333  \n",
       "1 2014-09-01 18:00:00 2014-09-01  2014      9    18        0      0.083333  \n",
       "2 2014-09-01 17:00:00 2014-09-01  2014      9    17        0      0.100000  \n",
       "3 2014-09-01 13:00:00 2014-09-01  2014      9    13        0      0.533333  \n",
       "4 2014-09-01 14:00:00 2014-09-01  2014      9    14        0      0.283333  "
      ]
     },
     "execution_count": 29,
     "metadata": {},
     "output_type": "execute_result"
    }
   ],
   "source": [
    "df_uber.head()"
   ]
  },
  {
   "cell_type": "markdown",
   "id": "e05eaeaa",
   "metadata": {},
   "source": [
    "# replace missing values with mean distance and duration for origin to destination"
   ]
  },
  {
   "cell_type": "code",
   "execution_count": 30,
   "id": "1fa81186",
   "metadata": {},
   "outputs": [],
   "source": [
    "#mean distance and duration for each origin-destination pair\n",
    "df_DistDur = df_uber.groupby(['origin_taz' , 'destination_taz'])[['trip_distance' , 'duration_min']].mean()"
   ]
  },
  {
   "cell_type": "code",
   "execution_count": 31,
   "id": "cc70dd06",
   "metadata": {},
   "outputs": [
    {
     "data": {
      "text/html": [
       "<div>\n",
       "<style scoped>\n",
       "    .dataframe tbody tr th:only-of-type {\n",
       "        vertical-align: middle;\n",
       "    }\n",
       "\n",
       "    .dataframe tbody tr th {\n",
       "        vertical-align: top;\n",
       "    }\n",
       "\n",
       "    .dataframe thead th {\n",
       "        text-align: right;\n",
       "    }\n",
       "</style>\n",
       "<table border=\"1\" class=\"dataframe\">\n",
       "  <thead>\n",
       "    <tr style=\"text-align: right;\">\n",
       "      <th></th>\n",
       "      <th></th>\n",
       "      <th>trip_distance</th>\n",
       "      <th>duration_min</th>\n",
       "    </tr>\n",
       "    <tr>\n",
       "      <th>origin_taz</th>\n",
       "      <th>destination_taz</th>\n",
       "      <th></th>\n",
       "      <th></th>\n",
       "    </tr>\n",
       "  </thead>\n",
       "  <tbody>\n",
       "    <tr>\n",
       "      <th rowspan=\"5\" valign=\"top\">1</th>\n",
       "      <th>1</th>\n",
       "      <td>1.421855</td>\n",
       "      <td>1.558688</td>\n",
       "    </tr>\n",
       "    <tr>\n",
       "      <th>10</th>\n",
       "      <td>3.650791</td>\n",
       "      <td>0.705698</td>\n",
       "    </tr>\n",
       "    <tr>\n",
       "      <th>11</th>\n",
       "      <td>5.093679</td>\n",
       "      <td>0.724528</td>\n",
       "    </tr>\n",
       "    <tr>\n",
       "      <th>12</th>\n",
       "      <td>8.887789</td>\n",
       "      <td>1.649068</td>\n",
       "    </tr>\n",
       "    <tr>\n",
       "      <th>13</th>\n",
       "      <td>11.583137</td>\n",
       "      <td>2.425348</td>\n",
       "    </tr>\n",
       "  </tbody>\n",
       "</table>\n",
       "</div>"
      ],
      "text/plain": [
       "                            trip_distance  duration_min\n",
       "origin_taz destination_taz                             \n",
       "1          1                     1.421855      1.558688\n",
       "           10                    3.650791      0.705698\n",
       "           11                    5.093679      0.724528\n",
       "           12                    8.887789      1.649068\n",
       "           13                   11.583137      2.425348"
      ]
     },
     "execution_count": 31,
     "metadata": {},
     "output_type": "execute_result"
    }
   ],
   "source": [
    "df_DistDur.head()"
   ]
  },
  {
   "cell_type": "code",
   "execution_count": 32,
   "id": "f520e6da",
   "metadata": {},
   "outputs": [],
   "source": [
    "#replacing missing values with avg distance and duration for the origin-dest pair\n",
    "\n",
    "for i in df.index:\n",
    "    orig = df_uber.loc[i , 'origin_taz']\n",
    "    dest = df_uber.loc[i , 'destination_taz']\n",
    "    df_uber.loc[i , 'trip_distance'] = df_DistDur.loc[orig , dest].trip_distance\n",
    "    df_uber.loc[i , 'duration_min'] = df_DistDur.loc[orig , dest].duration_min"
   ]
  },
  {
   "cell_type": "markdown",
   "id": "b1739a3d",
   "metadata": {},
   "source": [
    "# Calculating Avg speed for each trip"
   ]
  },
  {
   "cell_type": "code",
   "execution_count": 33,
   "id": "f92ab2ce",
   "metadata": {},
   "outputs": [],
   "source": [
    "#calculate avg speed \n",
    "df_uber['trip_mph_avg'] = df_uber.trip_distance/(df_uber.duration_min/60.0)"
   ]
  },
  {
   "cell_type": "code",
   "execution_count": 34,
   "id": "8cfd74c4",
   "metadata": {},
   "outputs": [
    {
     "data": {
      "text/html": [
       "<div>\n",
       "<style scoped>\n",
       "    .dataframe tbody tr th:only-of-type {\n",
       "        vertical-align: middle;\n",
       "    }\n",
       "\n",
       "    .dataframe tbody tr th {\n",
       "        vertical-align: top;\n",
       "    }\n",
       "\n",
       "    .dataframe thead th {\n",
       "        text-align: right;\n",
       "    }\n",
       "</style>\n",
       "<table border=\"1\" class=\"dataframe\">\n",
       "  <thead>\n",
       "    <tr style=\"text-align: right;\">\n",
       "      <th></th>\n",
       "      <th>id</th>\n",
       "      <th>origin_taz</th>\n",
       "      <th>destination_taz</th>\n",
       "      <th>trip_distance</th>\n",
       "      <th>trip_duration</th>\n",
       "      <th>pu_date_hour</th>\n",
       "      <th>pu_date</th>\n",
       "      <th>year</th>\n",
       "      <th>month</th>\n",
       "      <th>hour</th>\n",
       "      <th>weekday</th>\n",
       "      <th>duration_min</th>\n",
       "      <th>trip_mph_avg</th>\n",
       "    </tr>\n",
       "  </thead>\n",
       "  <tbody>\n",
       "    <tr>\n",
       "      <th>0</th>\n",
       "      <td>252581</td>\n",
       "      <td>7C</td>\n",
       "      <td>6A</td>\n",
       "      <td>4.25</td>\n",
       "      <td>0:15:11</td>\n",
       "      <td>2014-09-01 09:00:00</td>\n",
       "      <td>2014-09-01</td>\n",
       "      <td>2014</td>\n",
       "      <td>9</td>\n",
       "      <td>9</td>\n",
       "      <td>0</td>\n",
       "      <td>0.183333</td>\n",
       "      <td>1390.909091</td>\n",
       "    </tr>\n",
       "    <tr>\n",
       "      <th>1</th>\n",
       "      <td>252582</td>\n",
       "      <td>7B</td>\n",
       "      <td>15</td>\n",
       "      <td>10.17</td>\n",
       "      <td>0:34:05</td>\n",
       "      <td>2014-09-01 18:00:00</td>\n",
       "      <td>2014-09-01</td>\n",
       "      <td>2014</td>\n",
       "      <td>9</td>\n",
       "      <td>18</td>\n",
       "      <td>0</td>\n",
       "      <td>0.083333</td>\n",
       "      <td>7322.400000</td>\n",
       "    </tr>\n",
       "    <tr>\n",
       "      <th>2</th>\n",
       "      <td>252583</td>\n",
       "      <td>11</td>\n",
       "      <td>2A</td>\n",
       "      <td>4.02</td>\n",
       "      <td>0:17:06</td>\n",
       "      <td>2014-09-01 17:00:00</td>\n",
       "      <td>2014-09-01</td>\n",
       "      <td>2014</td>\n",
       "      <td>9</td>\n",
       "      <td>17</td>\n",
       "      <td>0</td>\n",
       "      <td>0.100000</td>\n",
       "      <td>2412.000000</td>\n",
       "    </tr>\n",
       "    <tr>\n",
       "      <th>3</th>\n",
       "      <td>252584</td>\n",
       "      <td>3B</td>\n",
       "      <td>4A</td>\n",
       "      <td>1.46</td>\n",
       "      <td>0:06:32</td>\n",
       "      <td>2014-09-01 13:00:00</td>\n",
       "      <td>2014-09-01</td>\n",
       "      <td>2014</td>\n",
       "      <td>9</td>\n",
       "      <td>13</td>\n",
       "      <td>0</td>\n",
       "      <td>0.533333</td>\n",
       "      <td>164.250000</td>\n",
       "    </tr>\n",
       "    <tr>\n",
       "      <th>4</th>\n",
       "      <td>252585</td>\n",
       "      <td>2A</td>\n",
       "      <td>10</td>\n",
       "      <td>8.31</td>\n",
       "      <td>0:26:17</td>\n",
       "      <td>2014-09-01 14:00:00</td>\n",
       "      <td>2014-09-01</td>\n",
       "      <td>2014</td>\n",
       "      <td>9</td>\n",
       "      <td>14</td>\n",
       "      <td>0</td>\n",
       "      <td>0.283333</td>\n",
       "      <td>1759.764706</td>\n",
       "    </tr>\n",
       "  </tbody>\n",
       "</table>\n",
       "</div>"
      ],
      "text/plain": [
       "       id origin_taz destination_taz  trip_distance trip_duration  \\\n",
       "0  252581         7C              6A           4.25       0:15:11   \n",
       "1  252582         7B              15          10.17       0:34:05   \n",
       "2  252583         11              2A           4.02       0:17:06   \n",
       "3  252584         3B              4A           1.46       0:06:32   \n",
       "4  252585         2A              10           8.31       0:26:17   \n",
       "\n",
       "         pu_date_hour    pu_date  year  month  hour  weekday  duration_min  \\\n",
       "0 2014-09-01 09:00:00 2014-09-01  2014      9     9        0      0.183333   \n",
       "1 2014-09-01 18:00:00 2014-09-01  2014      9    18        0      0.083333   \n",
       "2 2014-09-01 17:00:00 2014-09-01  2014      9    17        0      0.100000   \n",
       "3 2014-09-01 13:00:00 2014-09-01  2014      9    13        0      0.533333   \n",
       "4 2014-09-01 14:00:00 2014-09-01  2014      9    14        0      0.283333   \n",
       "\n",
       "   trip_mph_avg  \n",
       "0   1390.909091  \n",
       "1   7322.400000  \n",
       "2   2412.000000  \n",
       "3    164.250000  \n",
       "4   1759.764706  "
      ]
     },
     "execution_count": 34,
     "metadata": {},
     "output_type": "execute_result"
    }
   ],
   "source": [
    "df_uber.head()"
   ]
  },
  {
   "cell_type": "markdown",
   "id": "289fb238",
   "metadata": {},
   "source": [
    "# calculating estimated revenue per trip"
   ]
  },
  {
   "cell_type": "code",
   "execution_count": 35,
   "id": "e7289a6e",
   "metadata": {},
   "outputs": [],
   "source": [
    "#Source: http://uberestimate.com/prices/New-York-City/ for Uber X\n",
    "\n",
    "base_fare = 2.55\n",
    "per_minute = 0.35\n",
    "per_mile = 1.75\n",
    "min_fare = 8"
   ]
  },
  {
   "cell_type": "code",
   "execution_count": 36,
   "id": "027f9f5d",
   "metadata": {},
   "outputs": [],
   "source": [
    "#def est_revenue(arr):\n",
    "#    rev = base_fare + arr[0] * per_minute + arr[1] * per_mile\n",
    "#    return rev if rev > min_fare else min_fare"
   ]
  },
  {
   "cell_type": "code",
   "execution_count": 37,
   "id": "d7517241",
   "metadata": {},
   "outputs": [],
   "source": [
    "#df_uber['est_revenue'] = pd.Series(map(lambda x: est_revenue(x), test))"
   ]
  },
  {
   "cell_type": "code",
   "execution_count": 38,
   "id": "d2881144",
   "metadata": {},
   "outputs": [],
   "source": [
    "#Using eval() is even more efficient for large datasets than resorting to Numpy! \n",
    "#Local variables must be followed by @. Only for arithmetic, cannot use if statement, for example.\n",
    "df_uber['est_revenue'] = df_uber.eval('@base_fare + duration_min * @per_minute + trip_distance * @per_mile')\n",
    "df_uber.loc[df_uber.est_revenue < 8, 'est_revenue'] = min_fare"
   ]
  },
  {
   "cell_type": "code",
   "execution_count": 39,
   "id": "7948360f",
   "metadata": {},
   "outputs": [
    {
     "data": {
      "text/html": [
       "<div>\n",
       "<style scoped>\n",
       "    .dataframe tbody tr th:only-of-type {\n",
       "        vertical-align: middle;\n",
       "    }\n",
       "\n",
       "    .dataframe tbody tr th {\n",
       "        vertical-align: top;\n",
       "    }\n",
       "\n",
       "    .dataframe thead th {\n",
       "        text-align: right;\n",
       "    }\n",
       "</style>\n",
       "<table border=\"1\" class=\"dataframe\">\n",
       "  <thead>\n",
       "    <tr style=\"text-align: right;\">\n",
       "      <th></th>\n",
       "      <th>id</th>\n",
       "      <th>origin_taz</th>\n",
       "      <th>destination_taz</th>\n",
       "      <th>trip_distance</th>\n",
       "      <th>trip_duration</th>\n",
       "      <th>pu_date_hour</th>\n",
       "      <th>pu_date</th>\n",
       "      <th>year</th>\n",
       "      <th>month</th>\n",
       "      <th>hour</th>\n",
       "      <th>weekday</th>\n",
       "      <th>duration_min</th>\n",
       "      <th>trip_mph_avg</th>\n",
       "      <th>est_revenue</th>\n",
       "    </tr>\n",
       "  </thead>\n",
       "  <tbody>\n",
       "    <tr>\n",
       "      <th>0</th>\n",
       "      <td>252581</td>\n",
       "      <td>7C</td>\n",
       "      <td>6A</td>\n",
       "      <td>4.25</td>\n",
       "      <td>0:15:11</td>\n",
       "      <td>2014-09-01 09:00:00</td>\n",
       "      <td>2014-09-01</td>\n",
       "      <td>2014</td>\n",
       "      <td>9</td>\n",
       "      <td>9</td>\n",
       "      <td>0</td>\n",
       "      <td>0.183333</td>\n",
       "      <td>1390.909091</td>\n",
       "      <td>10.051667</td>\n",
       "    </tr>\n",
       "    <tr>\n",
       "      <th>1</th>\n",
       "      <td>252582</td>\n",
       "      <td>7B</td>\n",
       "      <td>15</td>\n",
       "      <td>10.17</td>\n",
       "      <td>0:34:05</td>\n",
       "      <td>2014-09-01 18:00:00</td>\n",
       "      <td>2014-09-01</td>\n",
       "      <td>2014</td>\n",
       "      <td>9</td>\n",
       "      <td>18</td>\n",
       "      <td>0</td>\n",
       "      <td>0.083333</td>\n",
       "      <td>7322.400000</td>\n",
       "      <td>20.376667</td>\n",
       "    </tr>\n",
       "    <tr>\n",
       "      <th>2</th>\n",
       "      <td>252583</td>\n",
       "      <td>11</td>\n",
       "      <td>2A</td>\n",
       "      <td>4.02</td>\n",
       "      <td>0:17:06</td>\n",
       "      <td>2014-09-01 17:00:00</td>\n",
       "      <td>2014-09-01</td>\n",
       "      <td>2014</td>\n",
       "      <td>9</td>\n",
       "      <td>17</td>\n",
       "      <td>0</td>\n",
       "      <td>0.100000</td>\n",
       "      <td>2412.000000</td>\n",
       "      <td>9.620000</td>\n",
       "    </tr>\n",
       "    <tr>\n",
       "      <th>3</th>\n",
       "      <td>252584</td>\n",
       "      <td>3B</td>\n",
       "      <td>4A</td>\n",
       "      <td>1.46</td>\n",
       "      <td>0:06:32</td>\n",
       "      <td>2014-09-01 13:00:00</td>\n",
       "      <td>2014-09-01</td>\n",
       "      <td>2014</td>\n",
       "      <td>9</td>\n",
       "      <td>13</td>\n",
       "      <td>0</td>\n",
       "      <td>0.533333</td>\n",
       "      <td>164.250000</td>\n",
       "      <td>8.000000</td>\n",
       "    </tr>\n",
       "    <tr>\n",
       "      <th>4</th>\n",
       "      <td>252585</td>\n",
       "      <td>2A</td>\n",
       "      <td>10</td>\n",
       "      <td>8.31</td>\n",
       "      <td>0:26:17</td>\n",
       "      <td>2014-09-01 14:00:00</td>\n",
       "      <td>2014-09-01</td>\n",
       "      <td>2014</td>\n",
       "      <td>9</td>\n",
       "      <td>14</td>\n",
       "      <td>0</td>\n",
       "      <td>0.283333</td>\n",
       "      <td>1759.764706</td>\n",
       "      <td>17.191667</td>\n",
       "    </tr>\n",
       "  </tbody>\n",
       "</table>\n",
       "</div>"
      ],
      "text/plain": [
       "       id origin_taz destination_taz  trip_distance trip_duration  \\\n",
       "0  252581         7C              6A           4.25       0:15:11   \n",
       "1  252582         7B              15          10.17       0:34:05   \n",
       "2  252583         11              2A           4.02       0:17:06   \n",
       "3  252584         3B              4A           1.46       0:06:32   \n",
       "4  252585         2A              10           8.31       0:26:17   \n",
       "\n",
       "         pu_date_hour    pu_date  year  month  hour  weekday  duration_min  \\\n",
       "0 2014-09-01 09:00:00 2014-09-01  2014      9     9        0      0.183333   \n",
       "1 2014-09-01 18:00:00 2014-09-01  2014      9    18        0      0.083333   \n",
       "2 2014-09-01 17:00:00 2014-09-01  2014      9    17        0      0.100000   \n",
       "3 2014-09-01 13:00:00 2014-09-01  2014      9    13        0      0.533333   \n",
       "4 2014-09-01 14:00:00 2014-09-01  2014      9    14        0      0.283333   \n",
       "\n",
       "   trip_mph_avg  est_revenue  \n",
       "0   1390.909091    10.051667  \n",
       "1   7322.400000    20.376667  \n",
       "2   2412.000000     9.620000  \n",
       "3    164.250000     8.000000  \n",
       "4   1759.764706    17.191667  "
      ]
     },
     "execution_count": 39,
     "metadata": {},
     "output_type": "execute_result"
    }
   ],
   "source": [
    "df_uber.head()"
   ]
  },
  {
   "cell_type": "markdown",
   "id": "e4bfa5be",
   "metadata": {},
   "source": [
    "# Checking data consistency"
   ]
  },
  {
   "cell_type": "code",
   "execution_count": 40,
   "id": "4ff70c84",
   "metadata": {},
   "outputs": [],
   "source": [
    "#With such a large amount of data it is very difficult to go through all the data and find the anomalies.The possible anomilies have been attended and have been worked upon"
   ]
  },
  {
   "cell_type": "code",
   "execution_count": 41,
   "id": "f2a82b58",
   "metadata": {},
   "outputs": [],
   "source": [
    "#Given below the possible anomalies visible - 1. Cases with distance equal to zero but duration is greater than zero 2.Anomalies with average trip speed"
   ]
  },
  {
   "cell_type": "code",
   "execution_count": 42,
   "id": "e1a9a0e5",
   "metadata": {},
   "outputs": [
    {
     "name": "stdout",
     "output_type": "stream",
     "text": [
      "85154\n"
     ]
    }
   ],
   "source": [
    "#Check cases with distance equal to zero but duration greater than zero:\n",
    "\n",
    "print (len(df_uber[(df_uber.duration_min > 0) & (df_uber.trip_distance == 0)]))"
   ]
  },
  {
   "cell_type": "code",
   "execution_count": 43,
   "id": "9adc916a",
   "metadata": {},
   "outputs": [
    {
     "data": {
      "text/html": [
       "<div>\n",
       "<style scoped>\n",
       "    .dataframe tbody tr th:only-of-type {\n",
       "        vertical-align: middle;\n",
       "    }\n",
       "\n",
       "    .dataframe tbody tr th {\n",
       "        vertical-align: top;\n",
       "    }\n",
       "\n",
       "    .dataframe thead th {\n",
       "        text-align: right;\n",
       "    }\n",
       "</style>\n",
       "<table border=\"1\" class=\"dataframe\">\n",
       "  <thead>\n",
       "    <tr style=\"text-align: right;\">\n",
       "      <th></th>\n",
       "      <th>id</th>\n",
       "      <th>origin_taz</th>\n",
       "      <th>destination_taz</th>\n",
       "      <th>trip_distance</th>\n",
       "      <th>trip_duration</th>\n",
       "      <th>pu_date_hour</th>\n",
       "      <th>pu_date</th>\n",
       "      <th>year</th>\n",
       "      <th>month</th>\n",
       "      <th>hour</th>\n",
       "      <th>weekday</th>\n",
       "      <th>duration_min</th>\n",
       "      <th>trip_mph_avg</th>\n",
       "      <th>est_revenue</th>\n",
       "    </tr>\n",
       "  </thead>\n",
       "  <tbody>\n",
       "    <tr>\n",
       "      <th>21727436</th>\n",
       "      <td>6421520</td>\n",
       "      <td>6B</td>\n",
       "      <td>NaN</td>\n",
       "      <td>0.0</td>\n",
       "      <td>1:18:14</td>\n",
       "      <td>2015-06-26 09:00:00</td>\n",
       "      <td>2015-06-26</td>\n",
       "      <td>2015</td>\n",
       "      <td>6</td>\n",
       "      <td>9</td>\n",
       "      <td>4</td>\n",
       "      <td>60.233333</td>\n",
       "      <td>0.0</td>\n",
       "      <td>23.631667</td>\n",
       "    </tr>\n",
       "    <tr>\n",
       "      <th>24682926</th>\n",
       "      <td>3574153</td>\n",
       "      <td>9</td>\n",
       "      <td>4C</td>\n",
       "      <td>0.0</td>\n",
       "      <td>1:12:54</td>\n",
       "      <td>2015-07-28 13:00:00</td>\n",
       "      <td>2015-07-28</td>\n",
       "      <td>2015</td>\n",
       "      <td>7</td>\n",
       "      <td>13</td>\n",
       "      <td>1</td>\n",
       "      <td>60.900000</td>\n",
       "      <td>0.0</td>\n",
       "      <td>23.865000</td>\n",
       "    </tr>\n",
       "    <tr>\n",
       "      <th>25654737</th>\n",
       "      <td>12754489</td>\n",
       "      <td>2A</td>\n",
       "      <td>9</td>\n",
       "      <td>0.0</td>\n",
       "      <td>1:15:22</td>\n",
       "      <td>2015-07-28 15:00:00</td>\n",
       "      <td>2015-07-28</td>\n",
       "      <td>2015</td>\n",
       "      <td>7</td>\n",
       "      <td>15</td>\n",
       "      <td>1</td>\n",
       "      <td>60.366667</td>\n",
       "      <td>0.0</td>\n",
       "      <td>23.678333</td>\n",
       "    </tr>\n",
       "    <tr>\n",
       "      <th>27671009</th>\n",
       "      <td>1176497</td>\n",
       "      <td>15</td>\n",
       "      <td>7B</td>\n",
       "      <td>0.0</td>\n",
       "      <td>1:37:24</td>\n",
       "      <td>2015-08-07 15:00:00</td>\n",
       "      <td>2015-08-07</td>\n",
       "      <td>2015</td>\n",
       "      <td>8</td>\n",
       "      <td>15</td>\n",
       "      <td>4</td>\n",
       "      <td>60.400000</td>\n",
       "      <td>0.0</td>\n",
       "      <td>23.690000</td>\n",
       "    </tr>\n",
       "    <tr>\n",
       "      <th>27905924</th>\n",
       "      <td>3132489</td>\n",
       "      <td>6A</td>\n",
       "      <td>6B</td>\n",
       "      <td>0.0</td>\n",
       "      <td>7:49:29</td>\n",
       "      <td>2015-08-21 19:00:00</td>\n",
       "      <td>2015-08-21</td>\n",
       "      <td>2015</td>\n",
       "      <td>8</td>\n",
       "      <td>19</td>\n",
       "      <td>4</td>\n",
       "      <td>420.483333</td>\n",
       "      <td>0.0</td>\n",
       "      <td>149.719167</td>\n",
       "    </tr>\n",
       "    <tr>\n",
       "      <th>28063888</th>\n",
       "      <td>4582304</td>\n",
       "      <td>6B</td>\n",
       "      <td>5C</td>\n",
       "      <td>0.0</td>\n",
       "      <td>2:23:39</td>\n",
       "      <td>2015-08-21 19:00:00</td>\n",
       "      <td>2015-08-21</td>\n",
       "      <td>2015</td>\n",
       "      <td>8</td>\n",
       "      <td>19</td>\n",
       "      <td>4</td>\n",
       "      <td>120.650000</td>\n",
       "      <td>0.0</td>\n",
       "      <td>44.777500</td>\n",
       "    </tr>\n",
       "    <tr>\n",
       "      <th>28169194</th>\n",
       "      <td>5547494</td>\n",
       "      <td>2A</td>\n",
       "      <td>1</td>\n",
       "      <td>0.0</td>\n",
       "      <td>10:36:33</td>\n",
       "      <td>2015-08-21 18:00:00</td>\n",
       "      <td>2015-08-21</td>\n",
       "      <td>2015</td>\n",
       "      <td>8</td>\n",
       "      <td>18</td>\n",
       "      <td>4</td>\n",
       "      <td>600.550000</td>\n",
       "      <td>0.0</td>\n",
       "      <td>212.742500</td>\n",
       "    </tr>\n",
       "    <tr>\n",
       "      <th>28169840</th>\n",
       "      <td>5548140</td>\n",
       "      <td>4B</td>\n",
       "      <td>3B</td>\n",
       "      <td>0.0</td>\n",
       "      <td>7:03:46</td>\n",
       "      <td>2015-08-21 18:00:00</td>\n",
       "      <td>2015-08-21</td>\n",
       "      <td>2015</td>\n",
       "      <td>8</td>\n",
       "      <td>18</td>\n",
       "      <td>4</td>\n",
       "      <td>420.766667</td>\n",
       "      <td>0.0</td>\n",
       "      <td>149.818333</td>\n",
       "    </tr>\n",
       "    <tr>\n",
       "      <th>28170238</th>\n",
       "      <td>5548538</td>\n",
       "      <td>11</td>\n",
       "      <td>15</td>\n",
       "      <td>0.0</td>\n",
       "      <td>7:56:08</td>\n",
       "      <td>2015-08-21 19:00:00</td>\n",
       "      <td>2015-08-21</td>\n",
       "      <td>2015</td>\n",
       "      <td>8</td>\n",
       "      <td>19</td>\n",
       "      <td>4</td>\n",
       "      <td>420.133333</td>\n",
       "      <td>0.0</td>\n",
       "      <td>149.596667</td>\n",
       "    </tr>\n",
       "    <tr>\n",
       "      <th>28274493</th>\n",
       "      <td>6515158</td>\n",
       "      <td>14</td>\n",
       "      <td>NaN</td>\n",
       "      <td>0.0</td>\n",
       "      <td>9:33:27</td>\n",
       "      <td>2015-08-21 18:00:00</td>\n",
       "      <td>2015-08-21</td>\n",
       "      <td>2015</td>\n",
       "      <td>8</td>\n",
       "      <td>18</td>\n",
       "      <td>4</td>\n",
       "      <td>540.450000</td>\n",
       "      <td>0.0</td>\n",
       "      <td>191.707500</td>\n",
       "    </tr>\n",
       "  </tbody>\n",
       "</table>\n",
       "</div>"
      ],
      "text/plain": [
       "                id origin_taz destination_taz  trip_distance trip_duration  \\\n",
       "21727436   6421520         6B             NaN            0.0       1:18:14   \n",
       "24682926   3574153          9              4C            0.0       1:12:54   \n",
       "25654737  12754489         2A               9            0.0       1:15:22   \n",
       "27671009   1176497         15              7B            0.0       1:37:24   \n",
       "27905924   3132489         6A              6B            0.0       7:49:29   \n",
       "28063888   4582304         6B              5C            0.0       2:23:39   \n",
       "28169194   5547494         2A               1            0.0      10:36:33   \n",
       "28169840   5548140         4B              3B            0.0       7:03:46   \n",
       "28170238   5548538         11              15            0.0       7:56:08   \n",
       "28274493   6515158         14             NaN            0.0       9:33:27   \n",
       "\n",
       "                pu_date_hour    pu_date  year  month  hour  weekday  \\\n",
       "21727436 2015-06-26 09:00:00 2015-06-26  2015      6     9        4   \n",
       "24682926 2015-07-28 13:00:00 2015-07-28  2015      7    13        1   \n",
       "25654737 2015-07-28 15:00:00 2015-07-28  2015      7    15        1   \n",
       "27671009 2015-08-07 15:00:00 2015-08-07  2015      8    15        4   \n",
       "27905924 2015-08-21 19:00:00 2015-08-21  2015      8    19        4   \n",
       "28063888 2015-08-21 19:00:00 2015-08-21  2015      8    19        4   \n",
       "28169194 2015-08-21 18:00:00 2015-08-21  2015      8    18        4   \n",
       "28169840 2015-08-21 18:00:00 2015-08-21  2015      8    18        4   \n",
       "28170238 2015-08-21 19:00:00 2015-08-21  2015      8    19        4   \n",
       "28274493 2015-08-21 18:00:00 2015-08-21  2015      8    18        4   \n",
       "\n",
       "          duration_min  trip_mph_avg  est_revenue  \n",
       "21727436     60.233333           0.0    23.631667  \n",
       "24682926     60.900000           0.0    23.865000  \n",
       "25654737     60.366667           0.0    23.678333  \n",
       "27671009     60.400000           0.0    23.690000  \n",
       "27905924    420.483333           0.0   149.719167  \n",
       "28063888    120.650000           0.0    44.777500  \n",
       "28169194    600.550000           0.0   212.742500  \n",
       "28169840    420.766667           0.0   149.818333  \n",
       "28170238    420.133333           0.0   149.596667  \n",
       "28274493    540.450000           0.0   191.707500  "
      ]
     },
     "execution_count": 43,
     "metadata": {},
     "output_type": "execute_result"
    }
   ],
   "source": [
    "#checking small dataset with duration > 5 mins , but distance equal to zero\n",
    "\n",
    "df_uber[(df_uber.duration_min >= 5) & (df_uber.trip_distance == 0) &(df_uber.origin_taz != df_uber.destination_taz)]\\\n",
    ".head(10)"
   ]
  },
  {
   "cell_type": "markdown",
   "id": "3e004d5c",
   "metadata": {},
   "source": [
    "# Anomalies with average trip speed"
   ]
  },
  {
   "cell_type": "code",
   "execution_count": 44,
   "id": "708b62e8",
   "metadata": {},
   "outputs": [
    {
     "name": "stdout",
     "output_type": "stream",
     "text": [
      "124451\n"
     ]
    }
   ],
   "source": [
    "#checking trips with speed slower than average walking speed(3mph)\n",
    "\n",
    "print (len(df_uber[df_uber.trip_mph_avg <=3]))"
   ]
  },
  {
   "cell_type": "code",
   "execution_count": 45,
   "id": "b8a0359e",
   "metadata": {},
   "outputs": [
    {
     "data": {
      "text/html": [
       "<div>\n",
       "<style scoped>\n",
       "    .dataframe tbody tr th:only-of-type {\n",
       "        vertical-align: middle;\n",
       "    }\n",
       "\n",
       "    .dataframe tbody tr th {\n",
       "        vertical-align: top;\n",
       "    }\n",
       "\n",
       "    .dataframe thead th {\n",
       "        text-align: right;\n",
       "    }\n",
       "</style>\n",
       "<table border=\"1\" class=\"dataframe\">\n",
       "  <thead>\n",
       "    <tr style=\"text-align: right;\">\n",
       "      <th></th>\n",
       "      <th>id</th>\n",
       "      <th>origin_taz</th>\n",
       "      <th>destination_taz</th>\n",
       "      <th>trip_distance</th>\n",
       "      <th>trip_duration</th>\n",
       "      <th>pu_date_hour</th>\n",
       "      <th>pu_date</th>\n",
       "      <th>year</th>\n",
       "      <th>month</th>\n",
       "      <th>hour</th>\n",
       "      <th>weekday</th>\n",
       "      <th>duration_min</th>\n",
       "      <th>trip_mph_avg</th>\n",
       "      <th>est_revenue</th>\n",
       "    </tr>\n",
       "  </thead>\n",
       "  <tbody>\n",
       "    <tr>\n",
       "      <th>271</th>\n",
       "      <td>252852</td>\n",
       "      <td>8</td>\n",
       "      <td>8</td>\n",
       "      <td>0.0</td>\n",
       "      <td>0:00:30</td>\n",
       "      <td>2014-09-01 16:00:00</td>\n",
       "      <td>2014-09-01</td>\n",
       "      <td>2014</td>\n",
       "      <td>9</td>\n",
       "      <td>16</td>\n",
       "      <td>0</td>\n",
       "      <td>0.500000</td>\n",
       "      <td>0.0</td>\n",
       "      <td>8.0</td>\n",
       "    </tr>\n",
       "    <tr>\n",
       "      <th>554</th>\n",
       "      <td>253135</td>\n",
       "      <td>2A</td>\n",
       "      <td>2A</td>\n",
       "      <td>0.0</td>\n",
       "      <td>0:02:41</td>\n",
       "      <td>2014-09-02 09:00:00</td>\n",
       "      <td>2014-09-02</td>\n",
       "      <td>2014</td>\n",
       "      <td>9</td>\n",
       "      <td>9</td>\n",
       "      <td>1</td>\n",
       "      <td>0.683333</td>\n",
       "      <td>0.0</td>\n",
       "      <td>8.0</td>\n",
       "    </tr>\n",
       "    <tr>\n",
       "      <th>1793</th>\n",
       "      <td>254374</td>\n",
       "      <td>11</td>\n",
       "      <td>11</td>\n",
       "      <td>0.0</td>\n",
       "      <td>0:09:53</td>\n",
       "      <td>2014-09-04 19:00:00</td>\n",
       "      <td>2014-09-04</td>\n",
       "      <td>2014</td>\n",
       "      <td>9</td>\n",
       "      <td>19</td>\n",
       "      <td>3</td>\n",
       "      <td>0.883333</td>\n",
       "      <td>0.0</td>\n",
       "      <td>8.0</td>\n",
       "    </tr>\n",
       "    <tr>\n",
       "      <th>1854</th>\n",
       "      <td>254435</td>\n",
       "      <td>2A</td>\n",
       "      <td>2A</td>\n",
       "      <td>0.0</td>\n",
       "      <td>0:00:11</td>\n",
       "      <td>2014-09-04 16:00:00</td>\n",
       "      <td>2014-09-04</td>\n",
       "      <td>2014</td>\n",
       "      <td>9</td>\n",
       "      <td>16</td>\n",
       "      <td>3</td>\n",
       "      <td>0.183333</td>\n",
       "      <td>0.0</td>\n",
       "      <td>8.0</td>\n",
       "    </tr>\n",
       "    <tr>\n",
       "      <th>2245</th>\n",
       "      <td>254826</td>\n",
       "      <td>5A</td>\n",
       "      <td>5A</td>\n",
       "      <td>0.0</td>\n",
       "      <td>0:00:06</td>\n",
       "      <td>2014-09-04 17:00:00</td>\n",
       "      <td>2014-09-04</td>\n",
       "      <td>2014</td>\n",
       "      <td>9</td>\n",
       "      <td>17</td>\n",
       "      <td>3</td>\n",
       "      <td>0.100000</td>\n",
       "      <td>0.0</td>\n",
       "      <td>8.0</td>\n",
       "    </tr>\n",
       "    <tr>\n",
       "      <th>2286</th>\n",
       "      <td>254867</td>\n",
       "      <td>2A</td>\n",
       "      <td>2A</td>\n",
       "      <td>0.0</td>\n",
       "      <td>0:00:30</td>\n",
       "      <td>2014-09-03 21:00:00</td>\n",
       "      <td>2014-09-03</td>\n",
       "      <td>2014</td>\n",
       "      <td>9</td>\n",
       "      <td>21</td>\n",
       "      <td>2</td>\n",
       "      <td>0.500000</td>\n",
       "      <td>0.0</td>\n",
       "      <td>8.0</td>\n",
       "    </tr>\n",
       "    <tr>\n",
       "      <th>2657</th>\n",
       "      <td>255238</td>\n",
       "      <td>7A</td>\n",
       "      <td>7A</td>\n",
       "      <td>0.0</td>\n",
       "      <td>0:00:13</td>\n",
       "      <td>2014-09-05 05:00:00</td>\n",
       "      <td>2014-09-05</td>\n",
       "      <td>2014</td>\n",
       "      <td>9</td>\n",
       "      <td>5</td>\n",
       "      <td>4</td>\n",
       "      <td>0.216667</td>\n",
       "      <td>0.0</td>\n",
       "      <td>8.0</td>\n",
       "    </tr>\n",
       "    <tr>\n",
       "      <th>2827</th>\n",
       "      <td>255408</td>\n",
       "      <td>6A</td>\n",
       "      <td>6A</td>\n",
       "      <td>0.0</td>\n",
       "      <td>0:00:05</td>\n",
       "      <td>2014-09-05 11:00:00</td>\n",
       "      <td>2014-09-05</td>\n",
       "      <td>2014</td>\n",
       "      <td>9</td>\n",
       "      <td>11</td>\n",
       "      <td>4</td>\n",
       "      <td>0.083333</td>\n",
       "      <td>0.0</td>\n",
       "      <td>8.0</td>\n",
       "    </tr>\n",
       "    <tr>\n",
       "      <th>3264</th>\n",
       "      <td>255845</td>\n",
       "      <td>4C</td>\n",
       "      <td>4C</td>\n",
       "      <td>0.0</td>\n",
       "      <td>0:00:48</td>\n",
       "      <td>2014-09-04 21:00:00</td>\n",
       "      <td>2014-09-04</td>\n",
       "      <td>2014</td>\n",
       "      <td>9</td>\n",
       "      <td>21</td>\n",
       "      <td>3</td>\n",
       "      <td>0.800000</td>\n",
       "      <td>0.0</td>\n",
       "      <td>8.0</td>\n",
       "    </tr>\n",
       "    <tr>\n",
       "      <th>3750</th>\n",
       "      <td>256331</td>\n",
       "      <td>6A</td>\n",
       "      <td>6A</td>\n",
       "      <td>0.0</td>\n",
       "      <td>0:01:14</td>\n",
       "      <td>2014-09-05 20:00:00</td>\n",
       "      <td>2014-09-05</td>\n",
       "      <td>2014</td>\n",
       "      <td>9</td>\n",
       "      <td>20</td>\n",
       "      <td>4</td>\n",
       "      <td>0.233333</td>\n",
       "      <td>0.0</td>\n",
       "      <td>8.0</td>\n",
       "    </tr>\n",
       "  </tbody>\n",
       "</table>\n",
       "</div>"
      ],
      "text/plain": [
       "          id origin_taz destination_taz  trip_distance trip_duration  \\\n",
       "271   252852          8               8            0.0       0:00:30   \n",
       "554   253135         2A              2A            0.0       0:02:41   \n",
       "1793  254374         11              11            0.0       0:09:53   \n",
       "1854  254435         2A              2A            0.0       0:00:11   \n",
       "2245  254826         5A              5A            0.0       0:00:06   \n",
       "2286  254867         2A              2A            0.0       0:00:30   \n",
       "2657  255238         7A              7A            0.0       0:00:13   \n",
       "2827  255408         6A              6A            0.0       0:00:05   \n",
       "3264  255845         4C              4C            0.0       0:00:48   \n",
       "3750  256331         6A              6A            0.0       0:01:14   \n",
       "\n",
       "            pu_date_hour    pu_date  year  month  hour  weekday  duration_min  \\\n",
       "271  2014-09-01 16:00:00 2014-09-01  2014      9    16        0      0.500000   \n",
       "554  2014-09-02 09:00:00 2014-09-02  2014      9     9        1      0.683333   \n",
       "1793 2014-09-04 19:00:00 2014-09-04  2014      9    19        3      0.883333   \n",
       "1854 2014-09-04 16:00:00 2014-09-04  2014      9    16        3      0.183333   \n",
       "2245 2014-09-04 17:00:00 2014-09-04  2014      9    17        3      0.100000   \n",
       "2286 2014-09-03 21:00:00 2014-09-03  2014      9    21        2      0.500000   \n",
       "2657 2014-09-05 05:00:00 2014-09-05  2014      9     5        4      0.216667   \n",
       "2827 2014-09-05 11:00:00 2014-09-05  2014      9    11        4      0.083333   \n",
       "3264 2014-09-04 21:00:00 2014-09-04  2014      9    21        3      0.800000   \n",
       "3750 2014-09-05 20:00:00 2014-09-05  2014      9    20        4      0.233333   \n",
       "\n",
       "      trip_mph_avg  est_revenue  \n",
       "271            0.0          8.0  \n",
       "554            0.0          8.0  \n",
       "1793           0.0          8.0  \n",
       "1854           0.0          8.0  \n",
       "2245           0.0          8.0  \n",
       "2286           0.0          8.0  \n",
       "2657           0.0          8.0  \n",
       "2827           0.0          8.0  \n",
       "3264           0.0          8.0  \n",
       "3750           0.0          8.0  "
      ]
     },
     "execution_count": 45,
     "metadata": {},
     "output_type": "execute_result"
    }
   ],
   "source": [
    "#possiblity of traffic so distance travelled less than 2 miles\n",
    "\n",
    "df_uber[(df_uber.trip_mph_avg <= 3) & (df_uber.trip_distance <=2 )].head(10)"
   ]
  },
  {
   "cell_type": "markdown",
   "id": "b2b9caff",
   "metadata": {},
   "source": [
    "# filtering data definig function and loading methods to create visualizations"
   ]
  },
  {
   "cell_type": "code",
   "execution_count": 46,
   "id": "6179fb6e",
   "metadata": {},
   "outputs": [],
   "source": [
    "#Create dataframe to be used for visualization with exactly 365 days of data, and max trip duration of 16h:\n",
    "df_viz = df_uber[(df_uber.pu_date != datetime.date(2015, 9, 1)) & (df_uber.duration_min <= 960)].copy()"
   ]
  },
  {
   "cell_type": "code",
   "execution_count": 47,
   "id": "95b6ed5a",
   "metadata": {},
   "outputs": [
    {
     "name": "stderr",
     "output_type": "stream",
     "text": [
      "/Users/shameikdutta/anaconda3/lib/python3.11/site-packages/pandas/core/nanops.py:1016: RuntimeWarning: invalid value encountered in subtract\n",
      "  sqr = _ensure_numeric((avg - values) ** 2)\n"
     ]
    },
    {
     "data": {
      "text/html": [
       "<div>\n",
       "<style scoped>\n",
       "    .dataframe tbody tr th:only-of-type {\n",
       "        vertical-align: middle;\n",
       "    }\n",
       "\n",
       "    .dataframe tbody tr th {\n",
       "        vertical-align: top;\n",
       "    }\n",
       "\n",
       "    .dataframe thead th {\n",
       "        text-align: right;\n",
       "    }\n",
       "</style>\n",
       "<table border=\"1\" class=\"dataframe\">\n",
       "  <thead>\n",
       "    <tr style=\"text-align: right;\">\n",
       "      <th></th>\n",
       "      <th>duration_min</th>\n",
       "      <th>trip_distance</th>\n",
       "      <th>trip_mph_avg</th>\n",
       "      <th>est_revenue</th>\n",
       "    </tr>\n",
       "  </thead>\n",
       "  <tbody>\n",
       "    <tr>\n",
       "      <th>count</th>\n",
       "      <td>3.092562e+07</td>\n",
       "      <td>3.092562e+07</td>\n",
       "      <td>3.090039e+07</td>\n",
       "      <td>3.092562e+07</td>\n",
       "    </tr>\n",
       "    <tr>\n",
       "      <th>mean</th>\n",
       "      <td>2.080823e+00</td>\n",
       "      <td>5.199671e+00</td>\n",
       "      <td>inf</td>\n",
       "      <td>1.350781e+01</td>\n",
       "    </tr>\n",
       "    <tr>\n",
       "      <th>std</th>\n",
       "      <td>1.154350e+01</td>\n",
       "      <td>6.130770e+00</td>\n",
       "      <td>NaN</td>\n",
       "      <td>1.239303e+01</td>\n",
       "    </tr>\n",
       "    <tr>\n",
       "      <th>min</th>\n",
       "      <td>0.000000e+00</td>\n",
       "      <td>0.000000e+00</td>\n",
       "      <td>0.000000e+00</td>\n",
       "      <td>8.000000e+00</td>\n",
       "    </tr>\n",
       "    <tr>\n",
       "      <th>25%</th>\n",
       "      <td>2.500000e-01</td>\n",
       "      <td>1.690000e+00</td>\n",
       "      <td>1.924138e+02</td>\n",
       "      <td>8.000000e+00</td>\n",
       "    </tr>\n",
       "    <tr>\n",
       "      <th>50%</th>\n",
       "      <td>5.000000e-01</td>\n",
       "      <td>3.090000e+00</td>\n",
       "      <td>4.365000e+02</td>\n",
       "      <td>8.138333e+00</td>\n",
       "    </tr>\n",
       "    <tr>\n",
       "      <th>75%</th>\n",
       "      <td>7.666667e-01</td>\n",
       "      <td>6.230000e+00</td>\n",
       "      <td>1.131750e+03</td>\n",
       "      <td>1.367417e+01</td>\n",
       "    </tr>\n",
       "    <tr>\n",
       "      <th>max</th>\n",
       "      <td>9.009000e+02</td>\n",
       "      <td>5.685700e+02</td>\n",
       "      <td>inf</td>\n",
       "      <td>1.212453e+03</td>\n",
       "    </tr>\n",
       "  </tbody>\n",
       "</table>\n",
       "</div>"
      ],
      "text/plain": [
       "       duration_min  trip_distance  trip_mph_avg   est_revenue\n",
       "count  3.092562e+07   3.092562e+07  3.090039e+07  3.092562e+07\n",
       "mean   2.080823e+00   5.199671e+00           inf  1.350781e+01\n",
       "std    1.154350e+01   6.130770e+00           NaN  1.239303e+01\n",
       "min    0.000000e+00   0.000000e+00  0.000000e+00  8.000000e+00\n",
       "25%    2.500000e-01   1.690000e+00  1.924138e+02  8.000000e+00\n",
       "50%    5.000000e-01   3.090000e+00  4.365000e+02  8.138333e+00\n",
       "75%    7.666667e-01   6.230000e+00  1.131750e+03  1.367417e+01\n",
       "max    9.009000e+02   5.685700e+02           inf  1.212453e+03"
      ]
     },
     "execution_count": 47,
     "metadata": {},
     "output_type": "execute_result"
    }
   ],
   "source": [
    "#Descriptive statistics for numerical features:\n",
    "df_viz[['duration_min', 'trip_distance', 'trip_mph_avg', 'est_revenue']].describe()"
   ]
  },
  {
   "cell_type": "code",
   "execution_count": 48,
   "id": "fe7f0c5b",
   "metadata": {},
   "outputs": [],
   "source": [
    "#exporting plotly:\n",
    "import matplotlib as mlab\n",
    "import plotly as py"
   ]
  },
  {
   "cell_type": "code",
   "execution_count": 49,
   "id": "db61a991",
   "metadata": {},
   "outputs": [
    {
     "name": "stdout",
     "output_type": "stream",
     "text": [
      "Requirement already satisfied: matplotlib==3.1.3 in /Users/shameikdutta/anaconda3/lib/python3.11/site-packages (3.1.3)\n",
      "Requirement already satisfied: cycler>=0.10 in /Users/shameikdutta/anaconda3/lib/python3.11/site-packages (from matplotlib==3.1.3) (0.11.0)\n",
      "Requirement already satisfied: kiwisolver>=1.0.1 in /Users/shameikdutta/anaconda3/lib/python3.11/site-packages (from matplotlib==3.1.3) (1.4.4)\n",
      "Requirement already satisfied: pyparsing!=2.0.4,!=2.1.2,!=2.1.6,>=2.0.1 in /Users/shameikdutta/anaconda3/lib/python3.11/site-packages (from matplotlib==3.1.3) (3.0.9)\n",
      "Requirement already satisfied: python-dateutil>=2.1 in /Users/shameikdutta/anaconda3/lib/python3.11/site-packages (from matplotlib==3.1.3) (2.8.2)\n",
      "Requirement already satisfied: numpy>=1.11 in /Users/shameikdutta/anaconda3/lib/python3.11/site-packages (from matplotlib==3.1.3) (1.26.3)\n",
      "Requirement already satisfied: six>=1.5 in /Users/shameikdutta/anaconda3/lib/python3.11/site-packages (from python-dateutil>=2.1->matplotlib==3.1.3) (1.16.0)\n",
      "Note: you may need to restart the kernel to use updated packages.\n"
     ]
    }
   ],
   "source": [
    "pip install matplotlib==3.1.3"
   ]
  },
  {
   "cell_type": "code",
   "execution_count": 50,
   "id": "1a7b6b7d",
   "metadata": {},
   "outputs": [],
   "source": [
    "from matplotlib.ticker import FuncFormatter #calling formatter function\n",
    "from matplotlib.offsetbox import (OffsetImage , AnnotationBbox) #creating image box\n",
    "from matplotlib._png import read_png #load png\n",
    "from matplotlib.patches import Ellipse #draw ellipse"
   ]
  },
  {
   "cell_type": "code",
   "execution_count": 51,
   "id": "04c4efd4",
   "metadata": {},
   "outputs": [],
   "source": [
    "def thousands_comma(x,pos):#args are the values and tick positions returns number with thousands comma and no decimals\n",
    "    return '{:,.0f}'.format(x)"
   ]
  },
  {
   "cell_type": "code",
   "execution_count": 52,
   "id": "977cecb4",
   "metadata": {},
   "outputs": [],
   "source": [
    "def thousands_format(x,pos):#args are the value and tick position , returns number of thousands with one decimal and K in place of 3 zeros\n",
    "    return '{:.0f}{}'.format(x * 1e-6,'K')"
   ]
  },
  {
   "cell_type": "code",
   "execution_count": 53,
   "id": "55402fc5",
   "metadata": {},
   "outputs": [],
   "source": [
    "def millions_format(x,pos): #args are the value and tick position , returns number of millions with one decimal and M in place of 6 zeros\n",
    "    return '{:.1f{}}'.format(x * 1e-6 , 'M')"
   ]
  },
  {
   "cell_type": "code",
   "execution_count": 54,
   "id": "2565681e",
   "metadata": {},
   "outputs": [],
   "source": [
    "def millions_currency(x,pos): #args are the value and tick position , returns number of millions with RS. sign and M in place of 6 zeros\n",
    "    return '{}{:.0f}{}'.format('Rs',x * 1e-6 , 'M')"
   ]
  },
  {
   "cell_type": "markdown",
   "id": "7583af23",
   "metadata": {},
   "source": [
    "# Visualizing the number of Uber trips per day"
   ]
  },
  {
   "cell_type": "code",
   "execution_count": 55,
   "id": "7b9cc419",
   "metadata": {},
   "outputs": [
    {
     "data": {
      "text/plain": [
       "pu_date\n",
       "2014-09-01    31592\n",
       "2014-09-02    41496\n",
       "2014-09-03    46339\n",
       "2014-09-04    53402\n",
       "2014-09-05    59718\n",
       "Name: id, dtype: int64"
      ]
     },
     "execution_count": 55,
     "metadata": {},
     "output_type": "execute_result"
    }
   ],
   "source": [
    "#Create a plotting data frame with counts (number of trips ) grouped by day:\n",
    "byDate = df_viz.groupby('pu_date')['id'].count()\n",
    "byDate.head()"
   ]
  },
  {
   "cell_type": "code",
   "execution_count": 56,
   "id": "41d8f3cc",
   "metadata": {},
   "outputs": [
    {
     "data": {
      "image/png": "[encoded data removed]",
      "text/plain": [
       "<Figure size 1600x800 with 1 Axes>"
      ]
     },
     "metadata": {},
     "output_type": "display_data"
    }
   ],
   "source": [
    "fig = plt.figure()\n",
    "ax = byDate.plot(figsize = (16,8),fontsize = 12 , ylim = (10000,170000),color = 'navy')"
   ]
  },
  {
   "cell_type": "markdown",
   "id": "3da032b0",
   "metadata": {},
   "source": [
    "# Efftect of time on demand for uber rides:Distribution per hour,weekday and month"
   ]
  }
 ],
 "metadata": {
  "kernelspec": {
   "display_name": "Python 3 (ipykernel)",
   "language": "python",
   "name": "python3"
  },
  "language_info": {
   "codemirror_mode": {
    "name": "ipython",
    "version": 3
   },
   "file_extension": ".py",
   "mimetype": "text/x-python",
   "name": "python",
   "nbconvert_exporter": "python",
   "pygments_lexer": "ipython3",
   "version": "3.11.5"
  }
 },
 "nbformat": 4,
 "nbformat_minor": 5
}
