{
 "cells": [
  {
   "cell_type": "code",
   "execution_count": 1,
   "id": "5a0b09c6",
   "metadata": {},
   "outputs": [
    {
     "name": "stderr",
     "output_type": "stream",
     "text": [
      "/Users/shameikdutta/anaconda3/lib/python3.11/site-packages/pandas/core/arrays/masked.py:60: UserWarning: Pandas requires version '1.3.6' or newer of 'bottleneck' (version '1.3.5' currently installed).\n",
      "  from pandas.core import (\n"
     ]
    }
   ],
   "source": [
    "#Libraries\n",
    "%matplotlib inline\n",
    "import sys\n",
    "\n",
    "import numpy as np\n",
    "\n",
    "import pandas as pd\n",
    "\n",
    "import matplotlib as mpl\n",
    "import matplotlib.pyplot as plt\n",
    "\n",
    "import seaborn as sns\n",
    "\n",
    "import datetime\n",
    "import time\n",
    "\n",
    "sns.set()\n",
    "pal = sns.hls_palette(10 , h=0.5)\n",
    "sns.set_palette(pal)"
   ]
  },
  {
   "cell_type": "code",
   "execution_count": 2,
   "id": "881b9c5f",
   "metadata": {},
   "outputs": [],
   "source": [
    "df_uber = pd.read_csv('uber_nyc_data.csv')"
   ]
  },
  {
   "cell_type": "code",
   "execution_count": 3,
   "id": "d4a5afd8",
   "metadata": {},
   "outputs": [
    {
     "name": "stdout",
     "output_type": "stream",
     "text": [
      "<class 'pandas.core.frame.DataFrame'>\n",
      "RangeIndex: 30925738 entries, 0 to 30925737\n",
      "Data columns (total 6 columns):\n",
      " #   Column           Dtype  \n",
      "---  ------           -----  \n",
      " 0   id               int64  \n",
      " 1   origin_taz       object \n",
      " 2   destination_taz  object \n",
      " 3   pickup_datetime  object \n",
      " 4   trip_distance    float64\n",
      " 5   trip_duration    object \n",
      "dtypes: float64(1), int64(1), object(4)\n",
      "memory usage: 1.4+ GB\n"
     ]
    }
   ],
   "source": [
    "df_uber.info()"
   ]
  },
  {
   "cell_type": "code",
   "execution_count": 4,
   "id": "44572504",
   "metadata": {},
   "outputs": [
    {
     "data": {
      "text/html": [
       "<div>\n",
       "<style scoped>\n",
       "    .dataframe tbody tr th:only-of-type {\n",
       "        vertical-align: middle;\n",
       "    }\n",
       "\n",
       "    .dataframe tbody tr th {\n",
       "        vertical-align: top;\n",
       "    }\n",
       "\n",
       "    .dataframe thead th {\n",
       "        text-align: right;\n",
       "    }\n",
       "</style>\n",
       "<table border=\"1\" class=\"dataframe\">\n",
       "  <thead>\n",
       "    <tr style=\"text-align: right;\">\n",
       "      <th></th>\n",
       "      <th>id</th>\n",
       "      <th>origin_taz</th>\n",
       "      <th>destination_taz</th>\n",
       "      <th>pickup_datetime</th>\n",
       "      <th>trip_distance</th>\n",
       "      <th>trip_duration</th>\n",
       "    </tr>\n",
       "  </thead>\n",
       "  <tbody>\n",
       "    <tr>\n",
       "      <th>0</th>\n",
       "      <td>252581</td>\n",
       "      <td>7C</td>\n",
       "      <td>6A</td>\n",
       "      <td>2014-09-01 09:00:00</td>\n",
       "      <td>4.25</td>\n",
       "      <td>0:15:11</td>\n",
       "    </tr>\n",
       "    <tr>\n",
       "      <th>1</th>\n",
       "      <td>252582</td>\n",
       "      <td>7B</td>\n",
       "      <td>15</td>\n",
       "      <td>2014-09-01 18:00:00</td>\n",
       "      <td>10.17</td>\n",
       "      <td>0:34:05</td>\n",
       "    </tr>\n",
       "    <tr>\n",
       "      <th>2</th>\n",
       "      <td>252583</td>\n",
       "      <td>11</td>\n",
       "      <td>2A</td>\n",
       "      <td>2014-09-01 17:00:00</td>\n",
       "      <td>4.02</td>\n",
       "      <td>0:17:06</td>\n",
       "    </tr>\n",
       "    <tr>\n",
       "      <th>3</th>\n",
       "      <td>252584</td>\n",
       "      <td>3B</td>\n",
       "      <td>4A</td>\n",
       "      <td>2014-09-01 13:00:00</td>\n",
       "      <td>1.46</td>\n",
       "      <td>0:06:32</td>\n",
       "    </tr>\n",
       "    <tr>\n",
       "      <th>4</th>\n",
       "      <td>252585</td>\n",
       "      <td>2A</td>\n",
       "      <td>10</td>\n",
       "      <td>2014-09-01 14:00:00</td>\n",
       "      <td>8.31</td>\n",
       "      <td>0:26:17</td>\n",
       "    </tr>\n",
       "    <tr>\n",
       "      <th>...</th>\n",
       "      <td>...</td>\n",
       "      <td>...</td>\n",
       "      <td>...</td>\n",
       "      <td>...</td>\n",
       "      <td>...</td>\n",
       "      <td>...</td>\n",
       "    </tr>\n",
       "    <tr>\n",
       "      <th>30925733</th>\n",
       "      <td>30693431</td>\n",
       "      <td>15</td>\n",
       "      <td>15</td>\n",
       "      <td>2015-09-01 00:00:00</td>\n",
       "      <td>6.86</td>\n",
       "      <td>0:27:37</td>\n",
       "    </tr>\n",
       "    <tr>\n",
       "      <th>30925734</th>\n",
       "      <td>30693447</td>\n",
       "      <td>5B</td>\n",
       "      <td>2A</td>\n",
       "      <td>2015-09-01 00:00:00</td>\n",
       "      <td>3.44</td>\n",
       "      <td>0:11:07</td>\n",
       "    </tr>\n",
       "    <tr>\n",
       "      <th>30925735</th>\n",
       "      <td>30693461</td>\n",
       "      <td>4C</td>\n",
       "      <td>NaN</td>\n",
       "      <td>2015-09-01 00:00:00</td>\n",
       "      <td>6.17</td>\n",
       "      <td>0:19:10</td>\n",
       "    </tr>\n",
       "    <tr>\n",
       "      <th>30925736</th>\n",
       "      <td>30693466</td>\n",
       "      <td>2A</td>\n",
       "      <td>5A</td>\n",
       "      <td>2015-09-01 00:00:00</td>\n",
       "      <td>1.87</td>\n",
       "      <td>0:07:54</td>\n",
       "    </tr>\n",
       "    <tr>\n",
       "      <th>30925737</th>\n",
       "      <td>30693470</td>\n",
       "      <td>2A</td>\n",
       "      <td>2A</td>\n",
       "      <td>2015-09-01 00:00:00</td>\n",
       "      <td>0.27</td>\n",
       "      <td>0:05:53</td>\n",
       "    </tr>\n",
       "  </tbody>\n",
       "</table>\n",
       "<p>30925738 rows × 6 columns</p>\n",
       "</div>"
      ],
      "text/plain": [
       "                id origin_taz destination_taz      pickup_datetime  \\\n",
       "0           252581         7C              6A  2014-09-01 09:00:00   \n",
       "1           252582         7B              15  2014-09-01 18:00:00   \n",
       "2           252583         11              2A  2014-09-01 17:00:00   \n",
       "3           252584         3B              4A  2014-09-01 13:00:00   \n",
       "4           252585         2A              10  2014-09-01 14:00:00   \n",
       "...            ...        ...             ...                  ...   \n",
       "30925733  30693431         15              15  2015-09-01 00:00:00   \n",
       "30925734  30693447         5B              2A  2015-09-01 00:00:00   \n",
       "30925735  30693461         4C             NaN  2015-09-01 00:00:00   \n",
       "30925736  30693466         2A              5A  2015-09-01 00:00:00   \n",
       "30925737  30693470         2A              2A  2015-09-01 00:00:00   \n",
       "\n",
       "          trip_distance trip_duration  \n",
       "0                  4.25       0:15:11  \n",
       "1                 10.17       0:34:05  \n",
       "2                  4.02       0:17:06  \n",
       "3                  1.46       0:06:32  \n",
       "4                  8.31       0:26:17  \n",
       "...                 ...           ...  \n",
       "30925733           6.86       0:27:37  \n",
       "30925734           3.44       0:11:07  \n",
       "30925735           6.17       0:19:10  \n",
       "30925736           1.87       0:07:54  \n",
       "30925737           0.27       0:05:53  \n",
       "\n",
       "[30925738 rows x 6 columns]"
      ]
     },
     "execution_count": 4,
     "metadata": {},
     "output_type": "execute_result"
    }
   ],
   "source": [
    "df_uber"
   ]
  },
  {
   "cell_type": "code",
   "execution_count": 5,
   "id": "219559a0",
   "metadata": {},
   "outputs": [
    {
     "data": {
      "text/html": [
       "<div>\n",
       "<style scoped>\n",
       "    .dataframe tbody tr th:only-of-type {\n",
       "        vertical-align: middle;\n",
       "    }\n",
       "\n",
       "    .dataframe tbody tr th {\n",
       "        vertical-align: top;\n",
       "    }\n",
       "\n",
       "    .dataframe thead th {\n",
       "        text-align: right;\n",
       "    }\n",
       "</style>\n",
       "<table border=\"1\" class=\"dataframe\">\n",
       "  <thead>\n",
       "    <tr style=\"text-align: right;\">\n",
       "      <th></th>\n",
       "      <th>id</th>\n",
       "      <th>origin_taz</th>\n",
       "      <th>destination_taz</th>\n",
       "      <th>pickup_datetime</th>\n",
       "      <th>trip_distance</th>\n",
       "      <th>trip_duration</th>\n",
       "    </tr>\n",
       "  </thead>\n",
       "  <tbody>\n",
       "    <tr>\n",
       "      <th>0</th>\n",
       "      <td>252581</td>\n",
       "      <td>7C</td>\n",
       "      <td>6A</td>\n",
       "      <td>2014-09-01 09:00:00</td>\n",
       "      <td>4.25</td>\n",
       "      <td>0:15:11</td>\n",
       "    </tr>\n",
       "    <tr>\n",
       "      <th>1</th>\n",
       "      <td>252582</td>\n",
       "      <td>7B</td>\n",
       "      <td>15</td>\n",
       "      <td>2014-09-01 18:00:00</td>\n",
       "      <td>10.17</td>\n",
       "      <td>0:34:05</td>\n",
       "    </tr>\n",
       "    <tr>\n",
       "      <th>2</th>\n",
       "      <td>252583</td>\n",
       "      <td>11</td>\n",
       "      <td>2A</td>\n",
       "      <td>2014-09-01 17:00:00</td>\n",
       "      <td>4.02</td>\n",
       "      <td>0:17:06</td>\n",
       "    </tr>\n",
       "    <tr>\n",
       "      <th>3</th>\n",
       "      <td>252584</td>\n",
       "      <td>3B</td>\n",
       "      <td>4A</td>\n",
       "      <td>2014-09-01 13:00:00</td>\n",
       "      <td>1.46</td>\n",
       "      <td>0:06:32</td>\n",
       "    </tr>\n",
       "    <tr>\n",
       "      <th>4</th>\n",
       "      <td>252585</td>\n",
       "      <td>2A</td>\n",
       "      <td>10</td>\n",
       "      <td>2014-09-01 14:00:00</td>\n",
       "      <td>8.31</td>\n",
       "      <td>0:26:17</td>\n",
       "    </tr>\n",
       "  </tbody>\n",
       "</table>\n",
       "</div>"
      ],
      "text/plain": [
       "       id origin_taz destination_taz      pickup_datetime  trip_distance  \\\n",
       "0  252581         7C              6A  2014-09-01 09:00:00           4.25   \n",
       "1  252582         7B              15  2014-09-01 18:00:00          10.17   \n",
       "2  252583         11              2A  2014-09-01 17:00:00           4.02   \n",
       "3  252584         3B              4A  2014-09-01 13:00:00           1.46   \n",
       "4  252585         2A              10  2014-09-01 14:00:00           8.31   \n",
       "\n",
       "  trip_duration  \n",
       "0       0:15:11  \n",
       "1       0:34:05  \n",
       "2       0:17:06  \n",
       "3       0:06:32  \n",
       "4       0:26:17  "
      ]
     },
     "execution_count": 5,
     "metadata": {},
     "output_type": "execute_result"
    }
   ],
   "source": [
    "df_uber.head()"
   ]
  },
  {
   "cell_type": "markdown",
   "id": "3eb6fbc5",
   "metadata": {},
   "source": [
    "# Check for missing data"
   ]
  },
  {
   "cell_type": "code",
   "execution_count": 6,
   "id": "c695d757",
   "metadata": {},
   "outputs": [
    {
     "data": {
      "text/plain": [
       "0"
      ]
     },
     "execution_count": 6,
     "metadata": {},
     "output_type": "execute_result"
    }
   ],
   "source": [
    "len(df_uber[df_uber.duplicated() == True])\n",
    "#no duplicate data in the rows"
   ]
  },
  {
   "cell_type": "code",
   "execution_count": 7,
   "id": "9825af0f",
   "metadata": {},
   "outputs": [
    {
     "data": {
      "text/plain": [
       "array(['7C', '7B', '11', '3B', '2A', '5B', '10', '2B', '9', '6B', '15',\n",
       "       '4C', '5A', '8', '14', '4A', '7A', '1', '16', '3A', '2C', '6A',\n",
       "       '12', '13', '3C', '4B', '5C', '17'], dtype=object)"
      ]
     },
     "execution_count": 7,
     "metadata": {},
     "output_type": "execute_result"
    }
   ],
   "source": [
    "arr1 = df_uber.origin_taz.unique()\n",
    "arr1"
   ]
  },
  {
   "cell_type": "code",
   "execution_count": 8,
   "id": "6fe35503",
   "metadata": {},
   "outputs": [
    {
     "data": {
      "text/plain": [
       "array(['6A', '15', '2A', '4A', '10', '4C', '7A', '3C', '5B', '14', '8',\n",
       "       nan, '7C', '12', '2C', '1', '6B', '5C', '9', '3A', '2B', '11',\n",
       "       '7B', '5A', '13', '4B', '18', '16', '3B', '17'], dtype=object)"
      ]
     },
     "execution_count": 8,
     "metadata": {},
     "output_type": "execute_result"
    }
   ],
   "source": [
    "arr2 = df_uber.destination_taz.unique()\n",
    "arr2"
   ]
  },
  {
   "cell_type": "code",
   "execution_count": 9,
   "id": "f0049c70",
   "metadata": {},
   "outputs": [
    {
     "data": {
      "text/plain": [
       "{'18', nan}"
      ]
     },
     "execution_count": 9,
     "metadata": {},
     "output_type": "execute_result"
    }
   ],
   "source": [
    "set(arr2) - set(arr1)"
   ]
  },
  {
   "cell_type": "code",
   "execution_count": 10,
   "id": "0104ea16",
   "metadata": {},
   "outputs": [
    {
     "data": {
      "text/html": [
       "<div>\n",
       "<style scoped>\n",
       "    .dataframe tbody tr th:only-of-type {\n",
       "        vertical-align: middle;\n",
       "    }\n",
       "\n",
       "    .dataframe tbody tr th {\n",
       "        vertical-align: top;\n",
       "    }\n",
       "\n",
       "    .dataframe thead th {\n",
       "        text-align: right;\n",
       "    }\n",
       "</style>\n",
       "<table border=\"1\" class=\"dataframe\">\n",
       "  <thead>\n",
       "    <tr style=\"text-align: right;\">\n",
       "      <th></th>\n",
       "      <th>id</th>\n",
       "      <th>origin_taz</th>\n",
       "      <th>destination_taz</th>\n",
       "      <th>pickup_datetime</th>\n",
       "      <th>trip_distance</th>\n",
       "      <th>trip_duration</th>\n",
       "    </tr>\n",
       "  </thead>\n",
       "  <tbody>\n",
       "    <tr>\n",
       "      <th>15</th>\n",
       "      <td>252596</td>\n",
       "      <td>6B</td>\n",
       "      <td>NaN</td>\n",
       "      <td>2014-09-01 17:00:00</td>\n",
       "      <td>11.67</td>\n",
       "      <td>0:23:45</td>\n",
       "    </tr>\n",
       "    <tr>\n",
       "      <th>32</th>\n",
       "      <td>252613</td>\n",
       "      <td>9</td>\n",
       "      <td>NaN</td>\n",
       "      <td>2014-09-01 16:00:00</td>\n",
       "      <td>80.69</td>\n",
       "      <td>1:59:37</td>\n",
       "    </tr>\n",
       "    <tr>\n",
       "      <th>63</th>\n",
       "      <td>252644</td>\n",
       "      <td>9</td>\n",
       "      <td>NaN</td>\n",
       "      <td>2014-09-01 18:00:00</td>\n",
       "      <td>23.07</td>\n",
       "      <td>1:03:37</td>\n",
       "    </tr>\n",
       "    <tr>\n",
       "      <th>141</th>\n",
       "      <td>252722</td>\n",
       "      <td>9</td>\n",
       "      <td>NaN</td>\n",
       "      <td>2014-09-01 10:00:00</td>\n",
       "      <td>21.73</td>\n",
       "      <td>0:41:12</td>\n",
       "    </tr>\n",
       "    <tr>\n",
       "      <th>148</th>\n",
       "      <td>252729</td>\n",
       "      <td>4B</td>\n",
       "      <td>NaN</td>\n",
       "      <td>2014-09-01 10:00:00</td>\n",
       "      <td>4.62</td>\n",
       "      <td>0:14:55</td>\n",
       "    </tr>\n",
       "  </tbody>\n",
       "</table>\n",
       "</div>"
      ],
      "text/plain": [
       "         id origin_taz destination_taz      pickup_datetime  trip_distance  \\\n",
       "15   252596         6B             NaN  2014-09-01 17:00:00          11.67   \n",
       "32   252613          9             NaN  2014-09-01 16:00:00          80.69   \n",
       "63   252644          9             NaN  2014-09-01 18:00:00          23.07   \n",
       "141  252722          9             NaN  2014-09-01 10:00:00          21.73   \n",
       "148  252729         4B             NaN  2014-09-01 10:00:00           4.62   \n",
       "\n",
       "    trip_duration  \n",
       "15        0:23:45  \n",
       "32        1:59:37  \n",
       "63        1:03:37  \n",
       "141       0:41:12  \n",
       "148       0:14:55  "
      ]
     },
     "execution_count": 10,
     "metadata": {},
     "output_type": "execute_result"
    }
   ],
   "source": [
    "df_uber[df_uber.destination_taz.isnull()].head()\n",
    "#check mdata with missing destination"
   ]
  },
  {
   "cell_type": "code",
   "execution_count": 11,
   "id": "da447166",
   "metadata": {},
   "outputs": [
    {
     "data": {
      "text/html": [
       "<div>\n",
       "<style scoped>\n",
       "    .dataframe tbody tr th:only-of-type {\n",
       "        vertical-align: middle;\n",
       "    }\n",
       "\n",
       "    .dataframe tbody tr th {\n",
       "        vertical-align: top;\n",
       "    }\n",
       "\n",
       "    .dataframe thead th {\n",
       "        text-align: right;\n",
       "    }\n",
       "</style>\n",
       "<table border=\"1\" class=\"dataframe\">\n",
       "  <thead>\n",
       "    <tr style=\"text-align: right;\">\n",
       "      <th></th>\n",
       "      <th>id</th>\n",
       "      <th>origin_taz</th>\n",
       "      <th>destination_taz</th>\n",
       "      <th>pickup_datetime</th>\n",
       "      <th>trip_distance</th>\n",
       "      <th>trip_duration</th>\n",
       "    </tr>\n",
       "  </thead>\n",
       "  <tbody>\n",
       "    <tr>\n",
       "      <th>15155317</th>\n",
       "      <td>39535</td>\n",
       "      <td>2A</td>\n",
       "      <td>11</td>\n",
       "      <td>2015-04-25 12:00:00</td>\n",
       "      <td>NaN</td>\n",
       "      <td>NaN</td>\n",
       "    </tr>\n",
       "    <tr>\n",
       "      <th>15245057</th>\n",
       "      <td>1009076</td>\n",
       "      <td>2A</td>\n",
       "      <td>2A</td>\n",
       "      <td>2015-04-26 01:00:00</td>\n",
       "      <td>NaN</td>\n",
       "      <td>NaN</td>\n",
       "    </tr>\n",
       "    <tr>\n",
       "      <th>16519652</th>\n",
       "      <td>15028665</td>\n",
       "      <td>2A</td>\n",
       "      <td>7C</td>\n",
       "      <td>2015-04-29 21:00:00</td>\n",
       "      <td>NaN</td>\n",
       "      <td>NaN</td>\n",
       "    </tr>\n",
       "    <tr>\n",
       "      <th>17148253</th>\n",
       "      <td>22250173</td>\n",
       "      <td>2A</td>\n",
       "      <td>2A</td>\n",
       "      <td>2015-04-12 02:00:00</td>\n",
       "      <td>NaN</td>\n",
       "      <td>NaN</td>\n",
       "    </tr>\n",
       "    <tr>\n",
       "      <th>17297563</th>\n",
       "      <td>23716998</td>\n",
       "      <td>2C</td>\n",
       "      <td>11</td>\n",
       "      <td>2015-04-25 13:00:00</td>\n",
       "      <td>NaN</td>\n",
       "      <td>NaN</td>\n",
       "    </tr>\n",
       "  </tbody>\n",
       "</table>\n",
       "</div>"
      ],
      "text/plain": [
       "                id origin_taz destination_taz      pickup_datetime  \\\n",
       "15155317     39535         2A              11  2015-04-25 12:00:00   \n",
       "15245057   1009076         2A              2A  2015-04-26 01:00:00   \n",
       "16519652  15028665         2A              7C  2015-04-29 21:00:00   \n",
       "17148253  22250173         2A              2A  2015-04-12 02:00:00   \n",
       "17297563  23716998         2C              11  2015-04-25 13:00:00   \n",
       "\n",
       "          trip_distance trip_duration  \n",
       "15155317            NaN           NaN  \n",
       "15245057            NaN           NaN  \n",
       "16519652            NaN           NaN  \n",
       "17148253            NaN           NaN  \n",
       "17297563            NaN           NaN  "
      ]
     },
     "execution_count": 11,
     "metadata": {},
     "output_type": "execute_result"
    }
   ],
   "source": [
    "df = df_uber[df_uber.trip_duration.isnull() & df_uber.trip_distance.isnull()]\n",
    "df.head()"
   ]
  },
  {
   "cell_type": "code",
   "execution_count": 12,
   "id": "3ddb1024",
   "metadata": {},
   "outputs": [
    {
     "data": {
      "text/plain": [
       "0"
      ]
     },
     "execution_count": 12,
     "metadata": {},
     "output_type": "execute_result"
    }
   ],
   "source": [
    "len(df_uber[(df_uber.trip_duration.isnull() == False) & (df_uber.trip_distance.isnull())])\n",
    "##All cases for which trip_duration is null match the cases for which trip_distance is also null:"
   ]
  },
  {
   "cell_type": "markdown",
   "id": "e6be9d09",
   "metadata": {},
   "source": [
    "# Analyze the pickup_datetime column to datetime type and create related features."
   ]
  },
  {
   "cell_type": "code",
   "execution_count": 13,
   "id": "d9fd513e",
   "metadata": {},
   "outputs": [
    {
     "data": {
      "text/plain": [
       "0"
      ]
     },
     "execution_count": 13,
     "metadata": {},
     "output_type": "execute_result"
    }
   ],
   "source": [
    "len(df_uber[df_uber.pickup_datetime.apply(lambda x:x[-5:] == '00:00') == False])\n",
    "#pickup time data offer mins or sec precision"
   ]
  },
  {
   "cell_type": "code",
   "execution_count": 14,
   "id": "ec66ae51",
   "metadata": {},
   "outputs": [],
   "source": [
    "def dateParser(s): # takes a string in format yyy-mm-dd hh:mm:ss and returns the same as a datetime object\n",
    "    \n",
    "    return datetime.datetime(int(s[0:4]) , int(s[5:7]) , int(s[8:10]) , int(s[11:13]))"
   ]
  },
  {
   "cell_type": "code",
   "execution_count": 15,
   "id": "49d289fa",
   "metadata": {},
   "outputs": [
    {
     "data": {
      "text/plain": [
       "36.92399787902832"
      ]
     },
     "execution_count": 15,
     "metadata": {},
     "output_type": "execute_result"
    }
   ],
   "source": [
    "t0 = time.time()\n",
    "df_uber['pu_date_hour'] = df_uber.pickup_datetime.apply(dateParser)\n",
    "time.time() - t0"
   ]
  },
  {
   "cell_type": "code",
   "execution_count": 16,
   "id": "b6b0f524",
   "metadata": {},
   "outputs": [
    {
     "name": "stdout",
     "output_type": "stream",
     "text": [
      "2014-09-01 00:00:00 2015-09-01 00:00:00 365 days 00:00:00\n"
     ]
    }
   ],
   "source": [
    "beginning = df_uber.pu_date_hour.min()\n",
    "end = df_uber.pu_date_hour.max()\n",
    "print(beginning, end, end - beginning)"
   ]
  },
  {
   "cell_type": "code",
   "execution_count": 17,
   "id": "7d96caf4",
   "metadata": {},
   "outputs": [],
   "source": [
    "df_uber = df_uber.drop('pickup_datetime' , axis = 1) #drop coulmns axis  = 1 means coulmns"
   ]
  },
  {
   "cell_type": "code",
   "execution_count": null,
   "id": "d88bab63",
   "metadata": {},
   "outputs": [],
   "source": [
    "t0 = time.time()\n",
    "df_uber['pu_date'] = pd.Series(map(lambda x: x.astype('datetime64[D]'),df_uber['pu_date_hour'].values))\n",
    "time.time() - t0\n",
    "#creation of coulmn with the date and without time"
   ]
  },
  {
   "cell_type": "code",
   "execution_count": null,
   "id": "79ed9f22",
   "metadata": {},
   "outputs": [],
   "source": [
    "df_uber['year'] = df_uber['pu_date_hour'].dt.year\n",
    "df_uber['month'] = df_uber['pu_date_hour'].dt.month\n",
    "#get month and year from pickup stamp"
   ]
  },
  {
   "cell_type": "code",
   "execution_count": null,
   "id": "efaae5b8",
   "metadata": {},
   "outputs": [],
   "source": [
    "t0 = time.time()\n",
    "df_uber['hour'] = df_uber['pu_date_hour'].dt.hour\n",
    "time.time() - t0\n",
    "#get trip pick up hour from timestamp"
   ]
  },
  {
   "cell_type": "code",
   "execution_count": null,
   "id": "fef4b02b",
   "metadata": {},
   "outputs": [],
   "source": [
    "t0 = time.time()\n",
    "df_uber['weekday'] = df_uber['pu_date_hour'].dt.dayofweek\n",
    "time.time() - t0\n",
    "#trip pickup weekday from timestamp"
   ]
  },
  {
   "cell_type": "code",
   "execution_count": null,
   "id": "16d87e9b",
   "metadata": {},
   "outputs": [],
   "source": [
    "df_uber.weekday.value_counts()\n",
    "#counts as monday = 0 ----- Sunday = 6"
   ]
  },
  {
   "cell_type": "code",
   "execution_count": null,
   "id": "440dfbd5",
   "metadata": {},
   "outputs": [],
   "source": [
    "df_uber.head()"
   ]
  },
  {
   "cell_type": "markdown",
   "id": "27e6976b",
   "metadata": {},
   "source": [
    "# Transformation of trip duration data"
   ]
  },
  {
   "cell_type": "code",
   "execution_count": null,
   "id": "590bf079",
   "metadata": {},
   "outputs": [],
   "source": [
    "uniq_dur = df_uber[df_uber.trip_duration.isnull() == False].trip_duration.unique()"
   ]
  },
  {
   "cell_type": "code",
   "execution_count": null,
   "id": "0e157268",
   "metadata": {},
   "outputs": [],
   "source": [
    "#how many represent >=10h of duration\n",
    "long_duration = []\n",
    "for item in uniq_dur:\n",
    "    if len(item) != 7:\n",
    "        long_duration.append(item)\n",
    "print(len(long_duration))"
   ]
  },
  {
   "cell_type": "code",
   "execution_count": null,
   "id": "da42b88d",
   "metadata": {},
   "outputs": [],
   "source": [
    "#check for unusual string duration\n",
    "for item in long_duration:\n",
    "    if len(item) > 8:\n",
    "        print(item)"
   ]
  },
  {
   "cell_type": "code",
   "execution_count": null,
   "id": "871005b3",
   "metadata": {},
   "outputs": [],
   "source": [
    "def duration_to_minutes(s):  # Takes hh:mm:ss and returns integer equivalent of total time in mins or zero from data\n",
    "    if pd.isnull(s):\n",
    "        val = 0\n",
    "    else:  \n",
    "        hms = s.split(':')\n",
    "        val = int(hms[0]) * 60 + int(hms[1]) + int(hms[2]) / 60.0\n",
    "    return val  # Return outside the conditional block"
   ]
  },
  {
   "cell_type": "code",
   "execution_count": null,
   "id": "6e23a54e",
   "metadata": {},
   "outputs": [],
   "source": [
    "#trip duration string into trip duration into mins\n",
    "t0 = time.time()\n",
    "df_uber['duration_min'] = df_uber.trip_duration.apply(duration_to_minutes) \n",
    "time.time() - t0"
   ]
  },
  {
   "cell_type": "code",
   "execution_count": null,
   "id": "953a86e4",
   "metadata": {},
   "outputs": [],
   "source": [
    "df_uber.head()"
   ]
  },
  {
   "cell_type": "markdown",
   "id": "e05eaeaa",
   "metadata": {},
   "source": [
    "# replace missing values with mean distance and duration for origin to destination"
   ]
  },
  {
   "cell_type": "code",
   "execution_count": null,
   "id": "1fa81186",
   "metadata": {},
   "outputs": [],
   "source": [
    "#mean distance and duration for each origin-destination pair\n",
    "df_DistDur = df_uber.groupby(['origin_taz' , 'destination_taz'])[['trip_distance' , 'duration_min']].mean()"
   ]
  },
  {
   "cell_type": "code",
   "execution_count": null,
   "id": "cc70dd06",
   "metadata": {},
   "outputs": [],
   "source": [
    "df_DistDur.head()"
   ]
  },
  {
   "cell_type": "code",
   "execution_count": null,
   "id": "f520e6da",
   "metadata": {},
   "outputs": [],
   "source": [
    "#replacing missing values with avg distance and duration for the origin-dest pair\n",
    "\n",
    "for i in df.index:\n",
    "    orig = df_uber.loc[i , 'origin_taz']\n",
    "    dest = df_uber.loc[i , 'destination_taz']\n",
    "    df_uber.loc[i , 'trip_distance'] = df_DistDur.loc[orig , dest].trip_distance\n",
    "    df_uber.loc[i , 'duration_min'] = df_DistDur.loc[orig , dest].duration_min"
   ]
  },
  {
   "cell_type": "markdown",
   "id": "b1739a3d",
   "metadata": {},
   "source": [
    "# Calculating Avg speed for each trip"
   ]
  },
  {
   "cell_type": "code",
   "execution_count": null,
   "id": "f92ab2ce",
   "metadata": {},
   "outputs": [],
   "source": [
    "#calculate avg speed \n",
    "df_uber['trip_mph_avg'] = df_uber.trip_distance/(df_uber.duration_min/60.0)"
   ]
  },
  {
   "cell_type": "code",
   "execution_count": null,
   "id": "8cfd74c4",
   "metadata": {},
   "outputs": [],
   "source": [
    "df_uber.head()"
   ]
  },
  {
   "cell_type": "markdown",
   "id": "289fb238",
   "metadata": {},
   "source": [
    "# calculating estimated revenue per trip"
   ]
  },
  {
   "cell_type": "code",
   "execution_count": null,
   "id": "e7289a6e",
   "metadata": {},
   "outputs": [],
   "source": [
    "#Source: http://uberestimate.com/prices/New-York-City/ for Uber X\n",
    "\n",
    "base_fare = 2.55\n",
    "per_minute = 0.35\n",
    "per_mile = 1.75\n",
    "min_fare = 8"
   ]
  },
  {
   "cell_type": "code",
   "execution_count": null,
   "id": "027f9f5d",
   "metadata": {},
   "outputs": [],
   "source": [
    "#def est_revenue(arr):\n",
    "#    rev = base_fare + arr[0] * per_minute + arr[1] * per_mile\n",
    "#    return rev if rev > min_fare else min_fare"
   ]
  },
  {
   "cell_type": "code",
   "execution_count": null,
   "id": "d7517241",
   "metadata": {},
   "outputs": [],
   "source": [
    "#df_uber['est_revenue'] = pd.Series(map(lambda x: est_revenue(x), test))"
   ]
  },
  {
   "cell_type": "code",
   "execution_count": null,
   "id": "d2881144",
   "metadata": {},
   "outputs": [],
   "source": [
    "#Using eval() is even more efficient for large datasets than resorting to Numpy! \n",
    "#Local variables must be followed by @. Only for arithmetic, cannot use if statement, for example.\n",
    "df_uber['est_revenue'] = df_uber.eval('@base_fare + duration_min * @per_minute + trip_distance * @per_mile')\n",
    "df_uber.loc[df_uber.est_revenue < 8, 'est_revenue'] = min_fare"
   ]
  },
  {
   "cell_type": "code",
   "execution_count": null,
   "id": "7948360f",
   "metadata": {},
   "outputs": [],
   "source": [
    "df_uber.head()"
   ]
  },
  {
   "cell_type": "markdown",
   "id": "e4bfa5be",
   "metadata": {},
   "source": [
    "# Checking data consistency"
   ]
  },
  {
   "cell_type": "code",
   "execution_count": null,
   "id": "4ff70c84",
   "metadata": {},
   "outputs": [],
   "source": [
    "#With such a large amount of data it is very difficult to go through all the data and find the anomalies.The possible anomilies have been attended and have been worked upon"
   ]
  },
  {
   "cell_type": "code",
   "execution_count": null,
   "id": "f2a82b58",
   "metadata": {},
   "outputs": [],
   "source": [
    "#Given below the possible anomalies visible - 1. Cases with distance equal to zero but duration is greater than zero 2.Anomalies with average trip speed"
   ]
  },
  {
   "cell_type": "code",
   "execution_count": null,
   "id": "e1a9a0e5",
   "metadata": {},
   "outputs": [],
   "source": [
    "#Check cases with distance equal to zero but duration greater than zero:\n",
    "\n",
    "print (len(df_uber[(df_uber.duration_min > 0) & (df_uber.trip_distance == 0)]))"
   ]
  },
  {
   "cell_type": "code",
   "execution_count": null,
   "id": "9adc916a",
   "metadata": {},
   "outputs": [],
   "source": [
    "#checking small dataset with duration > 5 mins , but distance equal to zero\n",
    "\n",
    "df_uber[(df_uber.duration_min >= 5) & (df_uber.trip_distance == 0) &(df_uber.origin_taz != df_uber.destination_taz)]\\\n",
    ".head(10)"
   ]
  },
  {
   "cell_type": "markdown",
   "id": "3e004d5c",
   "metadata": {},
   "source": [
    "# Anomalies with average trip speed"
   ]
  },
  {
   "cell_type": "code",
   "execution_count": null,
   "id": "708b62e8",
   "metadata": {},
   "outputs": [],
   "source": [
    "#checking trips with speed slower than average walking speed(3mph)\n",
    "\n",
    "print (len(df_uber[df_uber.trip_mph_avg <=3]))"
   ]
  },
  {
   "cell_type": "code",
   "execution_count": null,
   "id": "b8a0359e",
   "metadata": {},
   "outputs": [],
   "source": [
    "#possiblity of traffic so distance travelled less than 2 miles\n",
    "\n",
    "df_uber[(df_uber.trip_mph_avg <= 3) & (df_uber.trip_distance <=2 )].head(10)"
   ]
  },
  {
   "cell_type": "markdown",
   "id": "b2b9caff",
   "metadata": {},
   "source": [
    "# filtering data definig function and loading methods to create visualizations"
   ]
  },
  {
   "cell_type": "code",
   "execution_count": null,
   "id": "6179fb6e",
   "metadata": {},
   "outputs": [],
   "source": [
    "#Create dataframe to be used for visualization with exactly 365 days of data, and max trip duration of 16h:\n",
    "df_viz = df_uber[(df_uber.pu_date != datetime.date(2015, 9, 1)) & (df_uber.duration_min <= 960)].copy()"
   ]
  },
  {
   "cell_type": "code",
   "execution_count": null,
   "id": "95b6ed5a",
   "metadata": {},
   "outputs": [],
   "source": [
    "#Descriptive statistics for numerical features:\n",
    "df_viz[['duration_min', 'trip_distance', 'trip_mph_avg', 'est_revenue']].describe()"
   ]
  },
  {
   "cell_type": "code",
   "execution_count": null,
   "id": "fe7f0c5b",
   "metadata": {},
   "outputs": [],
   "source": [
    "#exporting plotly:\n",
    "import matplotlib as mlab\n",
    "import plotly as py"
   ]
  },
  {
   "cell_type": "code",
   "execution_count": null,
   "id": "db61a991",
   "metadata": {},
   "outputs": [],
   "source": [
    "pip install matplotlib==3.1.3"
   ]
  },
  {
   "cell_type": "code",
   "execution_count": null,
   "id": "1a7b6b7d",
   "metadata": {},
   "outputs": [],
   "source": [
    "from matplotlib.ticker import FuncFormatter #calling formatter function\n",
    "from matplotlib.offsetbox import (OffsetImage , AnnotationBbox) #creating image box\n",
    "from matplotlib._png import read_png #load png\n",
    "from matplotlib.patches import Ellipse #draw ellipse"
   ]
  },
  {
   "cell_type": "code",
   "execution_count": null,
   "id": "04c4efd4",
   "metadata": {},
   "outputs": [],
   "source": [
    "def thousands_comma(x,pos):#args are the values and tick positions returns number with thousands comma and no decimals\n",
    "    return '{:,.0f}'.format(x)"
   ]
  },
  {
   "cell_type": "code",
   "execution_count": null,
   "id": "977cecb4",
   "metadata": {},
   "outputs": [],
   "source": [
    "def thousands_format(x,pos):#args are the value and tick position , returns number of thousands with one decimal and K in place of 3 zeros\n",
    "    return '{:.0f}{}'.format(x * 1e-6,'K')"
   ]
  },
  {
   "cell_type": "code",
   "execution_count": null,
   "id": "55402fc5",
   "metadata": {},
   "outputs": [],
   "source": [
    "def millions_format(x,pos): #args are the value and tick position , returns number of millions with one decimal and M in place of 6 zeros\n",
    "    return '{:.1f{}}'.format(x * 1e-6 , 'M')"
   ]
  },
  {
   "cell_type": "code",
   "execution_count": null,
   "id": "2565681e",
   "metadata": {},
   "outputs": [],
   "source": [
    "def millions_currency(x,pos): #args are the value and tick position , returns number of millions with RS. sign and M in place of 6 zeros\n",
    "    return '{}{:.0f}{}'.format('Rs',x * 1e-6 , 'M')"
   ]
  },
  {
   "cell_type": "markdown",
   "id": "7583af23",
   "metadata": {},
   "source": [
    "# Visualizing the number of Uber trips per day"
   ]
  },
  {
   "cell_type": "code",
   "execution_count": null,
   "id": "7b9cc419",
   "metadata": {},
   "outputs": [],
   "source": [
    "#Create a plotting data frame with counts (number of trips ) grouped by day:\n",
    "byDate = df_viz.groupby('pu_date')['id'].count()\n",
    "byDate.head()"
   ]
  },
  {
   "cell_type": "code",
   "execution_count": null,
   "id": "41d8f3cc",
   "metadata": {},
   "outputs": [],
   "source": [
    "fig = plt.figure()\n",
    "ax = byDate.plot(figsize = (16,8),fontsize = 12 , ylim = (10000,170000),color = 'navy')"
   ]
  },
  {
   "cell_type": "markdown",
   "id": "3da032b0",
   "metadata": {},
   "source": [
    "# Efftect of time on demand for uber rides:Distribution per hour,weekday and month"
   ]
  },
  {
   "cell_type": "code",
   "execution_count": null,
   "id": "b5cbb0f3",
   "metadata": {},
   "outputs": [],
   "source": [
    "weekday_labels = ['Monday', 'Tuesday', 'Wednesday', 'Thursday', 'Friday', 'Saturday', 'Sunday']\n",
    "month_labels = ['Sep', 'Oct', 'Nov', 'Dec', 'Jan', 'Feb', 'Mar', 'Apr', 'May', 'Jun', 'Jul', 'Aug']"
   ]
  },
  {
   "cell_type": "code",
   "execution_count": null,
   "id": "e4490e03",
   "metadata": {},
   "outputs": [],
   "source": [
    "# Create plots comparing demand per different time categories:\n",
    "# fig = plt.figure(figsize = (15,16))\n",
    "# formatter = FuncFormatter(millions_format)\n",
    "\n",
    "# plt.subplot(3,1,1) #this plot could have a polar format, although I'm not sure it'd be a better viz.\n",
    "# ax1 = sns.countplot(df_viz.hour, order = range(24))\n",
    "# ax1.yaxis.set_major_formatter(formatter)\n",
    "# plt.tick_params(labelsize=13)\n",
    "# plt.title('Total Number of Trips Between 9/1/2014 and 8/31/2015', fontsize=17, color='navy')\n",
    "# plt.xlabel('Hour', fontsize=13)\n",
    "\n",
    "# plt.subplot(3,1,2)\n",
    "# ax2 = sns.countplot(df_viz.weekday, order = range(7))\n",
    "# ax2.set_xticklabels(weekday_labels)\n",
    "# ax2.yaxis.set_major_formatter(formatter)\n",
    "# plt.tick_params(labelsize=13)\n",
    "# plt.xlabel('')\n",
    "\n",
    "# plt.subplot(3,1,3) #same as the line plot but with less granularity, perhaps easier to visualize the MOM growth\n",
    "# ax3 = sns.countplot(df_viz.month)\n",
    "# ax3.set_xticklabels(month_labels)\n",
    "# ax3.yaxis.set_major_formatter(formatter)\n",
    "#plt.text(0, 3100000, 'Consistent growth in the number of trips from month to month!', color='navy', size=15)\n",
    "# plt.tick_params(labelsize=13)\n",
    "# plt.xlabel('')\n",
    "\n",
    "#fig.subplots_adjust(hspace=.5)\n",
    "# plt.show()\n"
   ]
  },
  {
   "cell_type": "markdown",
   "id": "16993567",
   "metadata": {},
   "source": [
    "# Estimated monthly base revenue:How much was the nyc market worth in that period of time"
   ]
  },
  {
   "cell_type": "code",
   "execution_count": null,
   "id": "a13d8a52",
   "metadata": {},
   "outputs": [],
   "source": [
    "#Bugs graph wrong"
   ]
  },
  {
   "cell_type": "code",
   "execution_count": null,
   "id": "e49d4f23",
   "metadata": {},
   "outputs": [],
   "source": [
    "#creating a dataframe with grouped revenue data:\n",
    "\n",
    "#byDateRev = df_viz.groupby('month')['est_revenue'].sum()\n",
    "last_3_months = df_viz[df_viz['month'].isin(df_viz['month'].unique()[-3:])]\n",
    "byDateRev = last_3_months.groupby('month')['est_revenue'].sum()"
   ]
  },
  {
   "cell_type": "code",
   "execution_count": null,
   "id": "f2e49531",
   "metadata": {},
   "outputs": [],
   "source": [
    "#estimate ubers's gross margin for entire 1 year based on 25% share of the the base revenue\n",
    "sumRev = byDateRev.sum()\n",
    "print ('Rs{:,.0f}M'.format(sumRev * 1e-6), \"Base Revenue   Uber's Base Gross Margin:\", 'Rs{:,.0f}'.format(sumRev * .25))"
   ]
  },
  {
   "cell_type": "code",
   "execution_count": null,
   "id": "b439e4d3",
   "metadata": {},
   "outputs": [],
   "source": [
    "#esitmated base gross margin based on information that average Uber fare in sep 2014 was Rs.27\n",
    "len(df_viz) * 27 * .25"
   ]
  },
  {
   "cell_type": "code",
   "execution_count": null,
   "id": "c01ca318",
   "metadata": {},
   "outputs": [],
   "source": [
    "byDateRev.head()"
   ]
  },
  {
   "cell_type": "code",
   "execution_count": null,
   "id": "3a4772bd",
   "metadata": {},
   "outputs": [],
   "source": [
    "#create chart showing total base revenue per month\n",
    "months_seq = [9,10,11,12,1,2,3,4,5,6,7,8]\n",
    "formatter = FuncFormatter(millions_currency)"
   ]
  },
  {
   "cell_type": "code",
   "execution_count": null,
   "id": "df127add",
   "metadata": {},
   "outputs": [],
   "source": [
    "plt.figure(figsize=(10, 6)) \n",
    "ax = sns.barplot(x=byDateRev.index, y=byDateRev.values, order=months_seq)\n",
    "ax.set_xticklabels(month_labels, rotation=45, ha='right')  # Rotate and align for readability\n",
    "ax.set_ylabel('Revenue (Millions)', fontsize=15)\n",
    "ax.yaxis.set_major_formatter(formatter)\n",
    "plt.title('Estimated Monthly Base Revenue from Sep-2014 to Aug-2015', fontsize=17, color='navy')\n",
    "total_revenue_text = \"Total Base Revenue for the Period: Rs.{:,.0f} Million\".format(sumRev * 1e-6)\n",
    "plt.text(0.7, 0.95, total_revenue_text, ha='left', va='center', fontsize=14, fontweight='bold', color='navy')\n",
    "plt.tick_params(labelsize=13)\n",
    "plt.show()\n"
   ]
  },
  {
   "cell_type": "code",
   "execution_count": null,
   "id": "ce8346d9",
   "metadata": {},
   "outputs": [],
   "source": [
    "#Mean fare from revenue estimate for the period\n",
    "df_viz.est_revenue.mean()"
   ]
  },
  {
   "cell_type": "code",
   "execution_count": null,
   "id": "298d1807",
   "metadata": {},
   "outputs": [],
   "source": [
    "#estimation of revenue share from Uber from 12/1/14 to 8/31/15\n",
    "\n",
    "rev = df_viz[(df_viz.pu_date.dt.date >= datetime.date(2014, 12, 1)) & (df_viz.pu_date.dt.date <= datetime.date(2015, 8, 31))] \\\n",
    "    .est_revenue.mean() \n",
    "\n",
    "u_pool = rev * 0.75 * 1500000\n",
    "u_pool "
   ]
  },
  {
   "cell_type": "code",
   "execution_count": null,
   "id": "dad00787",
   "metadata": {},
   "outputs": [],
   "source": [
    "u_pool / df_viz[(pd.to_datetime(df_viz.pu_date).dt.date >= datetime.date(2014, 12, 1)) & (pd.to_datetime(df_viz.pu_date).dt.date <= datetime.date(2015, 8, 31))] \\\n",
    "    .est_revenue.sum()"
   ]
  },
  {
   "cell_type": "markdown",
   "id": "3cabea50",
   "metadata": {},
   "source": [
    "# Month over Month growth revenue growth: How fast has Uber grown at that peroid of time"
   ]
  },
  {
   "cell_type": "code",
   "execution_count": null,
   "id": "c1b797c1",
   "metadata": {},
   "outputs": [],
   "source": [
    "#Lots of bugs to be entertained later"
   ]
  },
  {
   "cell_type": "code",
   "execution_count": null,
   "id": "6d57170a",
   "metadata": {},
   "outputs": [],
   "source": [
    "#Create dictionary with calculated month over month revenue percentage growth:\n",
    "dict_growth = {}\n",
    "for i in range(len(months_seq)):\n",
    "    mo = months_seq[i]\n",
    "    rev = byDateRev[mo]\n",
    "    if mo == 9:\n",
    "        growth_pct = 0\n",
    "    elif mo == 1:\n",
    "        growth_pct = ((rev/byDateRev[12]) - 1) * 100\n",
    "    else:\n",
    "        growth_pct = ((rev/byDateRev[mo - 1]) - 1) * 100\n",
    "    print(month_labels[i], 'Revenue =', 'Rs{:,.0f}'.format(rev), 'Growth % = ', '{:.1f}'.format(growth_pct))\n"
   ]
  },
  {
   "cell_type": "markdown",
   "id": "1b15f788",
   "metadata": {},
   "source": [
    "# Day of week has the slowest traffic overall"
   ]
  },
  {
   "cell_type": "code",
   "execution_count": null,
   "id": "6b889b08",
   "metadata": {},
   "outputs": [],
   "source": [
    "#create dataframe with grouped data.\n",
    "df_plt2 = df_viz.groupby('weekday')['trip_mph_avg'].median()"
   ]
  },
  {
   "cell_type": "code",
   "execution_count": null,
   "id": "f936e03e",
   "metadata": {},
   "outputs": [],
   "source": [
    "#creating plot\n",
    "\n",
    "fig = plt.figure()\n",
    "albels_list = df_plt2.values.round(1)\n",
    "kwargs = {'fontsize':12 , 'ha':'center' , 'va':'bottom','weight':'bold','color':'navy'}\n",
    "ax = df_plt2.plot(kind='bar', rot = 0, figsize = (12, 6), fontsize = 12, edgecolor='yellow', linewidth=1)\n",
    "ax.set_xticklabels(weekday_labels, weight='bold')\n",
    "\n",
    "ax.get_yaxis().set_ticks([])\n",
    "#annotate_labels(ax, labels_list, **kwargs)\n",
    "\n",
    "plt.xlabel('')\n",
    "plt.ylabel('Median Trip Speed (mph)', fontsize = 14)\n",
    "plt.tick_params(labelsize=14)\n",
    "plt.title('Which day of the week has the worst traffic?', fontsize = 18, color='navy')\n",
    "plt.show()"
   ]
  },
  {
   "cell_type": "code",
   "execution_count": null,
   "id": "2fc62124",
   "metadata": {},
   "outputs": [],
   "source": [
    "#upper value not visible"
   ]
  },
  {
   "cell_type": "markdown",
   "id": "a04f87b0",
   "metadata": {},
   "source": [
    "# Median distance travelled per trip?"
   ]
  },
  {
   "cell_type": "code",
   "execution_count": null,
   "id": "f4128606",
   "metadata": {},
   "outputs": [],
   "source": [
    "plt.figure(figsize = (16,6))\n",
    "\n",
    "plt.subplot(1,2,1)\n",
    "df_viz[(df_viz.weekday >= 5)].groupby('hour')['trip_distance'].median().plot(kind='bar', rot = 0, fontsize=14)\n",
    "plt.ylim(0, 9)\n",
    "plt.tick_params(labelsize=12)\n",
    "plt.ylabel('Median Trip Distance (miles)', fontsize=14, weight='bold', color='navy')\n",
    "plt.xlabel('Hour', fontsize=14, weight='bold', color='navy')\n",
    "plt.title('Weekend', fontsize=14, weight='bold', color='navy')\n",
    "\n",
    "plt.subplot(1,2,2)\n",
    "df_viz[df_viz.weekday < 5].groupby('hour')['trip_distance'].median().plot(kind='bar', rot = 0)\n",
    "plt.tick_params(labelsize=12)\n",
    "plt.xlabel('Hour', fontsize=14, weight='bold', color='navy')\n",
    "plt.title('Weekdays', fontsize=14, weight='bold', color='navy')\n",
    "\n",
    "plt.show()"
   ]
  },
  {
   "cell_type": "markdown",
   "id": "2657eced",
   "metadata": {},
   "source": [
    "# What are the most popular pickup and drop off taxi zones"
   ]
  },
  {
   "cell_type": "code",
   "execution_count": null,
   "id": "2796d1e9",
   "metadata": {},
   "outputs": [],
   "source": []
  }
 ],
 "metadata": {
  "kernelspec": {
   "display_name": "Python 3 (ipykernel)",
   "language": "python",
   "name": "python3"
  },
  "language_info": {
   "codemirror_mode": {
    "name": "ipython",
    "version": 3
   },
   "file_extension": ".py",
   "mimetype": "text/x-python",
   "name": "python",
   "nbconvert_exporter": "python",
   "pygments_lexer": "ipython3",
   "version": "3.11.5"
  }
 },
 "nbformat": 4,
 "nbformat_minor": 5
}
